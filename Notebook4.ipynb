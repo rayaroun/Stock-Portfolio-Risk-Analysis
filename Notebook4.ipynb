{
 "cells": [
  {
   "cell_type": "code",
   "execution_count": 1,
   "source": [
    "# Provides ways to work with large multidimensional arrays\r\n",
    "import numpy as np \r\n",
    "# Allows for further data manipulation and analysis\r\n",
    "import pandas as pd\r\n",
    "from pandas_datareader import data as web # Reads stock data \r\n",
    "import matplotlib.pyplot as plt # Plotting\r\n",
    "import matplotlib.dates as mdates # Styling dates\r\n",
    "%matplotlib inline\r\n",
    "\r\n",
    "import datetime as dt # For defining dates\r\n",
    "import mplfinance as mpf # Matplotlib finance\r\n",
    "\r\n",
    "import time\r\n",
    "\r\n",
    "# Used to get data from a directory\r\n",
    "import os\r\n",
    "from os import listdir\r\n",
    "from os.path import isfile, join"
   ],
   "outputs": [],
   "metadata": {}
  },
  {
   "cell_type": "markdown",
   "source": [
    "## Dates & Other Constants"
   ],
   "metadata": {}
  },
  {
   "cell_type": "code",
   "execution_count": 2,
   "source": [
    "PATH = \"Stock Data/Collection of Stocks/\"\r\n",
    "\r\n",
    "# Start date defaults\r\n",
    "S_YEAR = 2017\r\n",
    "S_MONTH = 1\r\n",
    "S_DAY = 3\r\n",
    "S_DATE_STR = \"2017-01-03\"\r\n",
    "S_DATE_DATETIME = dt.datetime(S_YEAR, S_MONTH, S_DAY)\r\n",
    "\r\n",
    "# End date defaults\r\n",
    "E_YEAR = 2021\r\n",
    "E_MONTH = 8\r\n",
    "E_DAY = 19\r\n",
    "E_DATE_STR = \"2021-10-01\"\r\n",
    "E_DATE_DATETIME = dt.datetime(E_YEAR, E_MONTH, E_DAY)"
   ],
   "outputs": [],
   "metadata": {}
  },
  {
   "cell_type": "markdown",
   "source": [
    "## Get Stock File Names in a List"
   ],
   "metadata": {}
  },
  {
   "cell_type": "code",
   "execution_count": 3,
   "source": [
    "files = [x for x in listdir(PATH) if isfile(join(PATH, x))]\r\n",
    "tickers = [os.path.splitext(x)[0] for x in files]\r\n",
    "\r\n",
    "tickers.sort()"
   ],
   "outputs": [],
   "metadata": {}
  },
  {
   "cell_type": "markdown",
   "source": [
    "## Function that Returns a Dataframe from a CSV"
   ],
   "metadata": {}
  },
  {
   "cell_type": "code",
   "execution_count": 4,
   "source": [
    "def get_df_from_csv(ticker):\r\n",
    "    try:\r\n",
    "        df = pd.read_csv(PATH + ticker + '.csv')\r\n",
    "    except FileNotFoundError:\r\n",
    "        pass\r\n",
    "        # print(\"File Doesn't Exist\")\r\n",
    "    else:\r\n",
    "        return df"
   ],
   "outputs": [],
   "metadata": {}
  },
  {
   "cell_type": "markdown",
   "source": [
    "## Function that Saves Dataframe to CSV"
   ],
   "metadata": {}
  },
  {
   "cell_type": "code",
   "execution_count": 5,
   "source": [
    "def save_dataframe_to_csv(df, ticker):\r\n",
    "    df.to_csv(PATH + ticker + '.csv')"
   ],
   "outputs": [],
   "metadata": {}
  },
  {
   "cell_type": "markdown",
   "source": [
    "## Return 1st Valid Date in Dataframe"
   ],
   "metadata": {}
  },
  {
   "cell_type": "code",
   "execution_count": 6,
   "source": [
    "def get_valid_dates(df, sdate, edate):  \r\n",
    "    try:\r\n",
    "        mask = (df['Date'] > sdate) & (df['Date'] <= edate) \r\n",
    "        sm_df = df.loc[mask]\r\n",
    "        sm_df = sm_df.set_index(['Date'])\r\n",
    "        sm_date = sm_df.index.min()\r\n",
    "        last_date = sm_df.index.max()\r\n",
    "        date_leading = '-'.join(('0' if len(x)<2 else '')+x for x in sm_date.split('-'))\r\n",
    "        date_ending = '-'.join(('0' if len(x)<2 else '')+x for x in last_date.split('-'))\r\n",
    "    except Exception:\r\n",
    "        print(\"Date Corrupted\")\r\n",
    "    else:\r\n",
    "        return date_leading, date_ending"
   ],
   "outputs": [],
   "metadata": {}
  },
  {
   "cell_type": "markdown",
   "source": [
    "## Returns Return on Investment over Time"
   ],
   "metadata": {}
  },
  {
   "cell_type": "code",
   "execution_count": 7,
   "source": [
    "def roi_between_dates(df, sdate, edate):\r\n",
    "    try: \r\n",
    "        start_val = df.loc[sdate,'Adj Close'] \r\n",
    "        end_val = df.loc[edate,'Adj Close']\r\n",
    "        roi = ((end_val - start_val) / start_val)\r\n",
    "    except Exception:\r\n",
    "        print(\"Data Corrupted\")\r\n",
    "    else:\r\n",
    "        return roi"
   ],
   "outputs": [],
   "metadata": {}
  },
  {
   "cell_type": "markdown",
   "source": [
    "## Get Mean Between Dates"
   ],
   "metadata": {}
  },
  {
   "cell_type": "code",
   "execution_count": 8,
   "source": [
    "def get_mean_between_dates(df, sdate, edate):\r\n",
    "    mask = (df['Date'] > sdate) & (df['Date'] <= edate)\r\n",
    "    return df.loc[mask][\"Adj Close\"].mean()"
   ],
   "outputs": [],
   "metadata": {}
  },
  {
   "cell_type": "markdown",
   "source": [
    "## Get Standard Deviation Between Dates"
   ],
   "metadata": {}
  },
  {
   "cell_type": "code",
   "execution_count": 9,
   "source": [
    "def get_sd_between_dates(df, sdate, edate):\r\n",
    "    mask = (df['Date'] > sdate) & (df['Date'] <= edate)\r\n",
    "    return df.loc[mask][\"Adj Close\"].std()"
   ],
   "outputs": [],
   "metadata": {}
  },
  {
   "cell_type": "markdown",
   "source": [
    "## Get Coefficient of Variation Between Dates"
   ],
   "metadata": {}
  },
  {
   "cell_type": "code",
   "execution_count": 10,
   "source": [
    "def get_cov_between_dates(df, sdate, edate):\r\n",
    "    mean = get_mean_between_dates(df, sdate, edate)\r\n",
    "    sd = get_sd_between_dates(df, sdate, edate)\r\n",
    "    return sd / mean"
   ],
   "outputs": [],
   "metadata": {}
  },
  {
   "cell_type": "markdown",
   "source": [
    "## Merge Multiple Stocks in One Dataframe by Column Name"
   ],
   "metadata": {}
  },
  {
   "cell_type": "code",
   "execution_count": 11,
   "source": [
    "def merge_df_by_column_name(col_name, sdate, edate, *tickers):\r\n",
    "    # Will hold data for all dataframes with the same column name\r\n",
    "    mult_df = pd.DataFrame()\r\n",
    "    \r\n",
    "    for x in tickers:\r\n",
    "        df = get_df_from_csv(x)\r\n",
    "        df['Date'] = pd.to_datetime(df['Date'])\r\n",
    "        # Use a mask to grab data between defined dates\r\n",
    "        mask = (df['Date'] >= sdate) & (df['Date'] <= edate)\r\n",
    "        mult_df[x] = df.loc[mask][col_name]\r\n",
    "        \r\n",
    "    return mult_df"
   ],
   "outputs": [],
   "metadata": {}
  },
  {
   "cell_type": "markdown",
   "source": [
    "## 11 Stock Market Sectors"
   ],
   "metadata": {}
  },
  {
   "cell_type": "markdown",
   "source": [
    "**Technology** : Manufacturing of electronics, software, or related to information technology \n",
    "\n",
    "**Health Care** : Biotech, hospitals, medical devices, drugs \n",
    "\n",
    "**Financials** : Banks, investment funds, and insurance\n",
    "\n",
    "**Real Estate** : Residential, industrial, and retail real estate \n",
    "\n",
    "**Energy** : Production and supply of energy \n",
    "\n",
    "**Materials** : Mining, refining, chemical, and forestry \n",
    "\n",
    "**Consumer Discretionary** : Retailers, apparel, media, durables and services \n",
    "\n",
    "**Industrials** : Construction, machinery, fabrication, manufacturing, defense, and aerospace \n",
    "\n",
    "**Utilities** : Direct providers of electric, gas, and water \n",
    "\n",
    "**Consumer Staples** : Food, beverage as well as products consumers deem essential \n",
    "\n",
    "**Telecommunication** : Cable, internet providers, wireless, and satellite"
   ],
   "metadata": {}
  },
  {
   "cell_type": "markdown",
   "source": [
    "## Get Sector Stocks"
   ],
   "metadata": {}
  },
  {
   "cell_type": "code",
   "execution_count": 12,
   "source": [
    "# For Windows\r\n",
    "sec_df = pd.read_csv(\"Stock Data/Collection of Stocks/stock_sectors.csv\")\r\n",
    "\r\n",
    "\r\n",
    "# Get Industrials DF\r\n",
    "indus_df = sec_df.loc[sec_df['Sector'] == \"Industrials\"]\r\n",
    "health_df = sec_df.loc[sec_df['Sector'] == \"Health Care\"]\r\n",
    "it_df = sec_df.loc[sec_df['Sector'] == \"Information Technology\"]\r\n",
    "comm_df = sec_df.loc[sec_df['Sector'] == \"Communication Services\"]\r\n",
    "staple_df = sec_df.loc[sec_df['Sector'] == \"Consumer Staples\"]\r\n",
    "discretion_df = sec_df.loc[sec_df['Sector'] == \"Consumer Discretionary\"]\r\n",
    "utility_df = sec_df.loc[sec_df['Sector'] == \"Utilities\"]\r\n",
    "financial_df = sec_df.loc[sec_df['Sector'] == \"Financials\"]\r\n",
    "material_df = sec_df.loc[sec_df['Sector'] == \"Materials\"]\r\n",
    "restate_df = sec_df.loc[sec_df['Sector'] == \"Real Estate\"]\r\n",
    "energy_df = sec_df.loc[sec_df['Sector'] == \"Energy\"]"
   ],
   "outputs": [],
   "metadata": {}
  },
  {
   "cell_type": "markdown",
   "source": [
    "## Returns a DF with ROIs for all Stocks"
   ],
   "metadata": {}
  },
  {
   "cell_type": "code",
   "execution_count": 13,
   "source": [
    "def get_rois_for_stocks(stock_df):\r\n",
    "    # Will hold all tickers & stock rois\r\n",
    "    tickers = []\r\n",
    "    rois = []\r\n",
    "\r\n",
    "    # iterrows provides the index and column for each row in the DF\r\n",
    "    for index, row in stock_df.iterrows():\r\n",
    "        df = get_df_from_csv(row['Symbol'])\r\n",
    "    \r\n",
    "        # If we can't find the ticker delete it from the dataframe\r\n",
    "        if df is None:\r\n",
    "            pass\r\n",
    "            # print(row['Symbol'], \" is not available\")\r\n",
    "        else:\r\n",
    "            tickers.append(row['Symbol'])\r\n",
    "            sdate, edate = get_valid_dates(df, '2018-01-01', '2020-12-31')\r\n",
    "            df = df.set_index(['Date'])\r\n",
    "            roi = roi_between_dates(df, sdate, edate)\r\n",
    "            rois.append(roi)\r\n",
    "    return pd.DataFrame({'Ticker':tickers, 'ROI':rois})"
   ],
   "outputs": [],
   "metadata": {}
  },
  {
   "cell_type": "code",
   "execution_count": 14,
   "source": [
    "industrial = get_rois_for_stocks(indus_df)\r\n",
    "health_care = get_rois_for_stocks(health_df)\r\n",
    "it = get_rois_for_stocks(it_df)\r\n",
    "commun = get_rois_for_stocks(comm_df)\r\n",
    "staple = get_rois_for_stocks(staple_df)\r\n",
    "discretion = get_rois_for_stocks(discretion_df)\r\n",
    "utility = get_rois_for_stocks(utility_df)\r\n",
    "finance = get_rois_for_stocks(financial_df)\r\n",
    "material = get_rois_for_stocks(material_df)\r\n",
    "restate = get_rois_for_stocks(restate_df)\r\n",
    "energy = get_rois_for_stocks(energy_df)"
   ],
   "outputs": [],
   "metadata": {}
  }
 ],
 "metadata": {
  "orig_nbformat": 4,
  "language_info": {
   "name": "python",
   "version": "3.8.11",
   "mimetype": "text/x-python",
   "codemirror_mode": {
    "name": "ipython",
    "version": 3
   },
   "pygments_lexer": "ipython3",
   "nbconvert_exporter": "python",
   "file_extension": ".py"
  },
  "kernelspec": {
   "name": "python3",
   "display_name": "Python 3.8.11 64-bit ('NewTry': conda)"
  },
  "interpreter": {
   "hash": "f094a24a4008203dd51fb7d7659f4ccdd83309b3080c43330cabea2cf50dc1f8"
  }
 },
 "nbformat": 4,
 "nbformat_minor": 2
}