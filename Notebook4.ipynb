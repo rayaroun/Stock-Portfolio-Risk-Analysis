{
 "cells": [
  {
   "cell_type": "code",
   "execution_count": 1,
   "source": [
    "# Provides ways to work with large multidimensional arrays\r\n",
    "import numpy as np \r\n",
    "# Allows for further data manipulation and analysis\r\n",
    "import pandas as pd\r\n",
    "from pandas_datareader import data as web # Reads stock data \r\n",
    "import matplotlib.pyplot as plt # Plotting\r\n",
    "import matplotlib.dates as mdates # Styling dates\r\n",
    "%matplotlib inline\r\n",
    "\r\n",
    "import datetime as dt # For defining dates\r\n",
    "import mplfinance as mpf # Matplotlib finance\r\n",
    "\r\n",
    "import time\r\n",
    "\r\n",
    "# Used to get data from a directory\r\n",
    "import os\r\n",
    "from os import listdir\r\n",
    "from os.path import isfile, join"
   ],
   "outputs": [],
   "metadata": {}
  },
  {
   "cell_type": "markdown",
   "source": [
    "## Dates & Other Constants"
   ],
   "metadata": {}
  },
  {
   "cell_type": "code",
   "execution_count": 2,
   "source": [
    "PATH = \"Stock Data/Collection of Stocks/\"\r\n",
    "\r\n",
    "# Start date defaults\r\n",
    "S_YEAR = 2017\r\n",
    "S_MONTH = 1\r\n",
    "S_DAY = 3\r\n",
    "S_DATE_STR = \"2017-01-03\"\r\n",
    "S_DATE_DATETIME = dt.datetime(S_YEAR, S_MONTH, S_DAY)\r\n",
    "\r\n",
    "# End date defaults\r\n",
    "E_YEAR = 2021\r\n",
    "E_MONTH = 8\r\n",
    "E_DAY = 19\r\n",
    "E_DATE_STR = \"2021-10-01\"\r\n",
    "E_DATE_DATETIME = dt.datetime(E_YEAR, E_MONTH, E_DAY)"
   ],
   "outputs": [],
   "metadata": {}
  },
  {
   "cell_type": "markdown",
   "source": [
    "## Get Stock File Names in a List"
   ],
   "metadata": {}
  },
  {
   "cell_type": "code",
   "execution_count": 3,
   "source": [
    "files = [x for x in listdir(PATH) if isfile(join(PATH, x))]\r\n",
    "tickers = [os.path.splitext(x)[0] for x in files]\r\n",
    "\r\n",
    "tickers.sort()"
   ],
   "outputs": [],
   "metadata": {}
  },
  {
   "cell_type": "markdown",
   "source": [
    "## Function that Returns a Dataframe from a CSV"
   ],
   "metadata": {}
  },
  {
   "cell_type": "code",
   "execution_count": 4,
   "source": [
    "def get_df_from_csv(ticker):\r\n",
    "    try:\r\n",
    "        df = pd.read_csv(PATH + ticker + '.csv')\r\n",
    "    except FileNotFoundError:\r\n",
    "        pass\r\n",
    "        # print(\"File Doesn't Exist\")\r\n",
    "    else:\r\n",
    "        return df"
   ],
   "outputs": [],
   "metadata": {}
  },
  {
   "cell_type": "markdown",
   "source": [
    "## Function that Saves Dataframe to CSV"
   ],
   "metadata": {}
  },
  {
   "cell_type": "code",
   "execution_count": 5,
   "source": [
    "def save_dataframe_to_csv(df, ticker):\r\n",
    "    df.to_csv(PATH + ticker + '.csv')"
   ],
   "outputs": [],
   "metadata": {}
  },
  {
   "cell_type": "markdown",
   "source": [
    "## Return 1st Valid Date in Dataframe"
   ],
   "metadata": {}
  },
  {
   "cell_type": "code",
   "execution_count": 6,
   "source": [
    "def get_valid_dates(df, sdate, edate):  \r\n",
    "    try:\r\n",
    "        mask = (df['Date'] > sdate) & (df['Date'] <= edate) \r\n",
    "        sm_df = df.loc[mask]\r\n",
    "        sm_df = sm_df.set_index(['Date'])\r\n",
    "        sm_date = sm_df.index.min()\r\n",
    "        last_date = sm_df.index.max()\r\n",
    "        date_leading = '-'.join(('0' if len(x)<2 else '')+x for x in sm_date.split('-'))\r\n",
    "        date_ending = '-'.join(('0' if len(x)<2 else '')+x for x in last_date.split('-'))\r\n",
    "    except Exception:\r\n",
    "        print(\"Date Corrupted\")\r\n",
    "    else:\r\n",
    "        return date_leading, date_ending"
   ],
   "outputs": [],
   "metadata": {}
  },
  {
   "cell_type": "markdown",
   "source": [
    "## Returns Return on Investment over Time"
   ],
   "metadata": {}
  },
  {
   "cell_type": "code",
   "execution_count": 7,
   "source": [
    "def roi_between_dates(df, sdate, edate):\r\n",
    "    try: \r\n",
    "        start_val = df.loc[sdate,'Adj Close'] \r\n",
    "        end_val = df.loc[edate,'Adj Close']\r\n",
    "        roi = ((end_val - start_val) / start_val)\r\n",
    "    except Exception:\r\n",
    "        print(\"Data Corrupted\")\r\n",
    "    else:\r\n",
    "        return roi"
   ],
   "outputs": [],
   "metadata": {}
  },
  {
   "cell_type": "markdown",
   "source": [
    "## Get Mean Between Dates"
   ],
   "metadata": {}
  },
  {
   "cell_type": "code",
   "execution_count": 8,
   "source": [
    "def get_mean_between_dates(df, sdate, edate):\r\n",
    "    mask = (df['Date'] > sdate) & (df['Date'] <= edate)\r\n",
    "    return df.loc[mask][\"Adj Close\"].mean()"
   ],
   "outputs": [],
   "metadata": {}
  },
  {
   "cell_type": "markdown",
   "source": [
    "## Get Standard Deviation Between Dates"
   ],
   "metadata": {}
  },
  {
   "cell_type": "code",
   "execution_count": 9,
   "source": [
    "def get_sd_between_dates(df, sdate, edate):\r\n",
    "    mask = (df['Date'] > sdate) & (df['Date'] <= edate)\r\n",
    "    return df.loc[mask][\"Adj Close\"].std()"
   ],
   "outputs": [],
   "metadata": {}
  },
  {
   "cell_type": "markdown",
   "source": [
    "## Get Coefficient of Variation Between Dates"
   ],
   "metadata": {}
  },
  {
   "cell_type": "code",
   "execution_count": 10,
   "source": [
    "def get_cov_between_dates(df, sdate, edate):\r\n",
    "    mean = get_mean_between_dates(df, sdate, edate)\r\n",
    "    sd = get_sd_between_dates(df, sdate, edate)\r\n",
    "    return sd / mean"
   ],
   "outputs": [],
   "metadata": {}
  },
  {
   "cell_type": "markdown",
   "source": [
    "## Merge Multiple Stocks in One Dataframe by Column Name"
   ],
   "metadata": {}
  },
  {
   "cell_type": "code",
   "execution_count": 11,
   "source": [
    "def merge_df_by_column_name(col_name, sdate, edate, *tickers):\r\n",
    "    # Will hold data for all dataframes with the same column name\r\n",
    "    mult_df = pd.DataFrame()\r\n",
    "    \r\n",
    "    for x in tickers:\r\n",
    "        df = get_df_from_csv(x)\r\n",
    "        df['Date'] = pd.to_datetime(df['Date'])\r\n",
    "        # Use a mask to grab data between defined dates\r\n",
    "        mask = (df['Date'] >= sdate) & (df['Date'] <= edate)\r\n",
    "        mult_df[x] = df.loc[mask][col_name]\r\n",
    "        \r\n",
    "    return mult_df"
   ],
   "outputs": [],
   "metadata": {}
  },
  {
   "cell_type": "markdown",
   "source": [
    "## 11 Stock Market Sectors"
   ],
   "metadata": {}
  },
  {
   "cell_type": "markdown",
   "source": [
    "**Technology** : Manufacturing of electronics, software, or related to information technology \n",
    "\n",
    "**Health Care** : Biotech, hospitals, medical devices, drugs \n",
    "\n",
    "**Financials** : Banks, investment funds, and insurance\n",
    "\n",
    "**Real Estate** : Residential, industrial, and retail real estate \n",
    "\n",
    "**Energy** : Production and supply of energy \n",
    "\n",
    "**Materials** : Mining, refining, chemical, and forestry \n",
    "\n",
    "**Consumer Discretionary** : Retailers, apparel, media, durables and services \n",
    "\n",
    "**Industrials** : Construction, machinery, fabrication, manufacturing, defense, and aerospace \n",
    "\n",
    "**Utilities** : Direct providers of electric, gas, and water \n",
    "\n",
    "**Consumer Staples** : Food, beverage as well as products consumers deem essential \n",
    "\n",
    "**Telecommunication** : Cable, internet providers, wireless, and satellite"
   ],
   "metadata": {}
  },
  {
   "cell_type": "markdown",
   "source": [
    "## Get Sector Stocks"
   ],
   "metadata": {}
  },
  {
   "cell_type": "code",
   "execution_count": 12,
   "source": [
    "# For Windows\r\n",
    "sec_df = pd.read_csv(\"Stock Data/Collection of Stocks/stock_sectors.csv\")\r\n",
    "\r\n",
    "\r\n",
    "# Get Industrials DF\r\n",
    "indus_df = sec_df.loc[sec_df['Sector'] == \"Industrials\"]\r\n",
    "health_df = sec_df.loc[sec_df['Sector'] == \"Health Care\"]\r\n",
    "it_df = sec_df.loc[sec_df['Sector'] == \"Information Technology\"]\r\n",
    "comm_df = sec_df.loc[sec_df['Sector'] == \"Communication Services\"]\r\n",
    "staple_df = sec_df.loc[sec_df['Sector'] == \"Consumer Staples\"]\r\n",
    "discretion_df = sec_df.loc[sec_df['Sector'] == \"Consumer Discretionary\"]\r\n",
    "utility_df = sec_df.loc[sec_df['Sector'] == \"Utilities\"]\r\n",
    "financial_df = sec_df.loc[sec_df['Sector'] == \"Financials\"]\r\n",
    "material_df = sec_df.loc[sec_df['Sector'] == \"Materials\"]\r\n",
    "restate_df = sec_df.loc[sec_df['Sector'] == \"Real Estate\"]\r\n",
    "energy_df = sec_df.loc[sec_df['Sector'] == \"Energy\"]"
   ],
   "outputs": [],
   "metadata": {}
  },
  {
   "cell_type": "markdown",
   "source": [
    "## Returns a DF with ROIs for all Stocks"
   ],
   "metadata": {}
  },
  {
   "cell_type": "code",
   "execution_count": 13,
   "source": [
    "def get_rois_for_stocks(stock_df):\r\n",
    "    # Will hold all tickers & stock rois\r\n",
    "    tickers = []\r\n",
    "    rois = []\r\n",
    "\r\n",
    "    # iterrows provides the index and column for each row in the DF\r\n",
    "    for index, row in stock_df.iterrows():\r\n",
    "        df = get_df_from_csv(row['Symbol'])\r\n",
    "    \r\n",
    "        # If we can't find the ticker delete it from the dataframe\r\n",
    "        if df is None:\r\n",
    "            pass\r\n",
    "            # print(row['Symbol'], \" is not available\")\r\n",
    "        else:\r\n",
    "            tickers.append(row['Symbol'])\r\n",
    "            sdate, edate = get_valid_dates(df, '2018-01-01', '2020-12-31')\r\n",
    "            df = df.set_index(['Date'])\r\n",
    "            roi = roi_between_dates(df, sdate, edate)\r\n",
    "            rois.append(roi)\r\n",
    "    return pd.DataFrame({'Ticker':tickers, 'ROI':rois})"
   ],
   "outputs": [],
   "metadata": {}
  },
  {
   "cell_type": "code",
   "execution_count": 14,
   "source": [
    "industrial = get_rois_for_stocks(indus_df)\r\n",
    "health_care = get_rois_for_stocks(health_df)\r\n",
    "it = get_rois_for_stocks(it_df)\r\n",
    "commun = get_rois_for_stocks(comm_df)\r\n",
    "staple = get_rois_for_stocks(staple_df)\r\n",
    "discretion = get_rois_for_stocks(discretion_df)\r\n",
    "utility = get_rois_for_stocks(utility_df)\r\n",
    "finance = get_rois_for_stocks(financial_df)\r\n",
    "material = get_rois_for_stocks(material_df)\r\n",
    "restate = get_rois_for_stocks(restate_df)\r\n",
    "energy = get_rois_for_stocks(energy_df)"
   ],
   "outputs": [],
   "metadata": {}
  },
  {
   "cell_type": "markdown",
   "source": [
    "## Top Industrials"
   ],
   "metadata": {}
  },
  {
   "cell_type": "code",
   "execution_count": 15,
   "source": [
    "industrial.sort_values(by=['ROI'], ascending=False).head(5)"
   ],
   "outputs": [
    {
     "output_type": "execute_result",
     "data": {
      "text/html": [
       "<div>\n",
       "<style scoped>\n",
       "    .dataframe tbody tr th:only-of-type {\n",
       "        vertical-align: middle;\n",
       "    }\n",
       "\n",
       "    .dataframe tbody tr th {\n",
       "        vertical-align: top;\n",
       "    }\n",
       "\n",
       "    .dataframe thead th {\n",
       "        text-align: right;\n",
       "    }\n",
       "</style>\n",
       "<table border=\"1\" class=\"dataframe\">\n",
       "  <thead>\n",
       "    <tr style=\"text-align: right;\">\n",
       "      <th></th>\n",
       "      <th>Ticker</th>\n",
       "      <th>ROI</th>\n",
       "    </tr>\n",
       "  </thead>\n",
       "  <tbody>\n",
       "    <tr>\n",
       "      <th>24</th>\n",
       "      <td>GNRC</td>\n",
       "      <td>3.734749</td>\n",
       "    </tr>\n",
       "    <tr>\n",
       "      <th>10</th>\n",
       "      <td>CPRT</td>\n",
       "      <td>1.918578</td>\n",
       "    </tr>\n",
       "    <tr>\n",
       "      <th>57</th>\n",
       "      <td>TDG</td>\n",
       "      <td>1.518984</td>\n",
       "    </tr>\n",
       "    <tr>\n",
       "      <th>9</th>\n",
       "      <td>CTAS</td>\n",
       "      <td>1.325593</td>\n",
       "    </tr>\n",
       "    <tr>\n",
       "      <th>42</th>\n",
       "      <td>ODFL</td>\n",
       "      <td>1.202971</td>\n",
       "    </tr>\n",
       "  </tbody>\n",
       "</table>\n",
       "</div>"
      ],
      "text/plain": [
       "   Ticker       ROI\n",
       "24   GNRC  3.734749\n",
       "10   CPRT  1.918578\n",
       "57    TDG  1.518984\n",
       "9    CTAS  1.325593\n",
       "42   ODFL  1.202971"
      ]
     },
     "metadata": {},
     "execution_count": 15
    }
   ],
   "metadata": {}
  },
  {
   "cell_type": "markdown",
   "source": [
    "## Top Healthcare"
   ],
   "metadata": {}
  },
  {
   "cell_type": "code",
   "execution_count": 16,
   "source": [
    "health_care.sort_values(by=['ROI'], ascending=False).head(5)"
   ],
   "outputs": [
    {
     "output_type": "execute_result",
     "data": {
      "text/html": [
       "<div>\n",
       "<style scoped>\n",
       "    .dataframe tbody tr th:only-of-type {\n",
       "        vertical-align: middle;\n",
       "    }\n",
       "\n",
       "    .dataframe tbody tr th {\n",
       "        vertical-align: top;\n",
       "    }\n",
       "\n",
       "    .dataframe thead th {\n",
       "        text-align: right;\n",
       "    }\n",
       "</style>\n",
       "<table border=\"1\" class=\"dataframe\">\n",
       "  <thead>\n",
       "    <tr style=\"text-align: right;\">\n",
       "      <th></th>\n",
       "      <th>Ticker</th>\n",
       "      <th>ROI</th>\n",
       "    </tr>\n",
       "  </thead>\n",
       "  <tbody>\n",
       "    <tr>\n",
       "      <th>25</th>\n",
       "      <td>DXCM</td>\n",
       "      <td>5.375582</td>\n",
       "    </tr>\n",
       "    <tr>\n",
       "      <th>33</th>\n",
       "      <td>IDXX</td>\n",
       "      <td>2.167543</td>\n",
       "    </tr>\n",
       "    <tr>\n",
       "      <th>59</th>\n",
       "      <td>WST</td>\n",
       "      <td>1.887307</td>\n",
       "    </tr>\n",
       "    <tr>\n",
       "      <th>49</th>\n",
       "      <td>RMD</td>\n",
       "      <td>1.575014</td>\n",
       "    </tr>\n",
       "    <tr>\n",
       "      <th>16</th>\n",
       "      <td>CTLT</td>\n",
       "      <td>1.475499</td>\n",
       "    </tr>\n",
       "  </tbody>\n",
       "</table>\n",
       "</div>"
      ],
      "text/plain": [
       "   Ticker       ROI\n",
       "25   DXCM  5.375582\n",
       "33   IDXX  2.167543\n",
       "59    WST  1.887307\n",
       "49    RMD  1.575014\n",
       "16   CTLT  1.475499"
      ]
     },
     "metadata": {},
     "execution_count": 16
    }
   ],
   "metadata": {}
  },
  {
   "cell_type": "markdown",
   "source": [
    "## Top Information Tech"
   ],
   "metadata": {}
  },
  {
   "cell_type": "code",
   "execution_count": 17,
   "source": [
    "it.sort_values(by=['ROI'], ascending=False).head(5)"
   ],
   "outputs": [
    {
     "output_type": "execute_result",
     "data": {
      "text/html": [
       "<div>\n",
       "<style scoped>\n",
       "    .dataframe tbody tr th:only-of-type {\n",
       "        vertical-align: middle;\n",
       "    }\n",
       "\n",
       "    .dataframe tbody tr th {\n",
       "        vertical-align: top;\n",
       "    }\n",
       "\n",
       "    .dataframe thead th {\n",
       "        text-align: right;\n",
       "    }\n",
       "</style>\n",
       "<table border=\"1\" class=\"dataframe\">\n",
       "  <thead>\n",
       "    <tr style=\"text-align: right;\">\n",
       "      <th></th>\n",
       "      <th>Ticker</th>\n",
       "      <th>ROI</th>\n",
       "    </tr>\n",
       "  </thead>\n",
       "  <tbody>\n",
       "    <tr>\n",
       "      <th>21</th>\n",
       "      <td>ENPH</td>\n",
       "      <td>66.488464</td>\n",
       "    </tr>\n",
       "    <tr>\n",
       "      <th>2</th>\n",
       "      <td>AMD</td>\n",
       "      <td>7.352459</td>\n",
       "    </tr>\n",
       "    <tr>\n",
       "      <th>50</th>\n",
       "      <td>PAYC</td>\n",
       "      <td>4.622203</td>\n",
       "    </tr>\n",
       "    <tr>\n",
       "      <th>57</th>\n",
       "      <td>NOW</td>\n",
       "      <td>3.178471</td>\n",
       "    </tr>\n",
       "    <tr>\n",
       "      <th>70</th>\n",
       "      <td>ZBRA</td>\n",
       "      <td>2.705814</td>\n",
       "    </tr>\n",
       "  </tbody>\n",
       "</table>\n",
       "</div>"
      ],
      "text/plain": [
       "   Ticker        ROI\n",
       "21   ENPH  66.488464\n",
       "2     AMD   7.352459\n",
       "50   PAYC   4.622203\n",
       "57    NOW   3.178471\n",
       "70   ZBRA   2.705814"
      ]
     },
     "metadata": {},
     "execution_count": 17
    }
   ],
   "metadata": {}
  },
  {
   "cell_type": "markdown",
   "source": [
    "## Top Communications"
   ],
   "metadata": {}
  },
  {
   "cell_type": "code",
   "execution_count": 18,
   "source": [
    "commun.sort_values(by=['ROI'], ascending=False).head(20)"
   ],
   "outputs": [
    {
     "output_type": "execute_result",
     "data": {
      "text/html": [
       "<div>\n",
       "<style scoped>\n",
       "    .dataframe tbody tr th:only-of-type {\n",
       "        vertical-align: middle;\n",
       "    }\n",
       "\n",
       "    .dataframe tbody tr th {\n",
       "        vertical-align: top;\n",
       "    }\n",
       "\n",
       "    .dataframe thead th {\n",
       "        text-align: right;\n",
       "    }\n",
       "</style>\n",
       "<table border=\"1\" class=\"dataframe\">\n",
       "  <thead>\n",
       "    <tr style=\"text-align: right;\">\n",
       "      <th></th>\n",
       "      <th>Ticker</th>\n",
       "      <th>ROI</th>\n",
       "    </tr>\n",
       "  </thead>\n",
       "  <tbody>\n",
       "    <tr>\n",
       "      <th>15</th>\n",
       "      <td>NFLX</td>\n",
       "      <td>1.689262</td>\n",
       "    </tr>\n",
       "    <tr>\n",
       "      <th>22</th>\n",
       "      <td>TWTR</td>\n",
       "      <td>1.209302</td>\n",
       "    </tr>\n",
       "    <tr>\n",
       "      <th>19</th>\n",
       "      <td>TMUS</td>\n",
       "      <td>1.105715</td>\n",
       "    </tr>\n",
       "    <tr>\n",
       "      <th>4</th>\n",
       "      <td>CHTR</td>\n",
       "      <td>0.895722</td>\n",
       "    </tr>\n",
       "    <tr>\n",
       "      <th>20</th>\n",
       "      <td>TTWO</td>\n",
       "      <td>0.840804</td>\n",
       "    </tr>\n",
       "    <tr>\n",
       "      <th>14</th>\n",
       "      <td>LYV</td>\n",
       "      <td>0.722861</td>\n",
       "    </tr>\n",
       "    <tr>\n",
       "      <th>21</th>\n",
       "      <td>DIS</td>\n",
       "      <td>0.666390</td>\n",
       "    </tr>\n",
       "    <tr>\n",
       "      <th>2</th>\n",
       "      <td>GOOG</td>\n",
       "      <td>0.644958</td>\n",
       "    </tr>\n",
       "    <tr>\n",
       "      <th>1</th>\n",
       "      <td>GOOGL</td>\n",
       "      <td>0.633082</td>\n",
       "    </tr>\n",
       "    <tr>\n",
       "      <th>10</th>\n",
       "      <td>FB</td>\n",
       "      <td>0.505677</td>\n",
       "    </tr>\n",
       "    <tr>\n",
       "      <th>0</th>\n",
       "      <td>ATVI</td>\n",
       "      <td>0.472510</td>\n",
       "    </tr>\n",
       "    <tr>\n",
       "      <th>5</th>\n",
       "      <td>CMCSA</td>\n",
       "      <td>0.353947</td>\n",
       "    </tr>\n",
       "    <tr>\n",
       "      <th>13</th>\n",
       "      <td>IPG</td>\n",
       "      <td>0.324075</td>\n",
       "    </tr>\n",
       "    <tr>\n",
       "      <th>9</th>\n",
       "      <td>EA</td>\n",
       "      <td>0.313763</td>\n",
       "    </tr>\n",
       "    <tr>\n",
       "      <th>6</th>\n",
       "      <td>DISCA</td>\n",
       "      <td>0.302034</td>\n",
       "    </tr>\n",
       "    <tr>\n",
       "      <th>23</th>\n",
       "      <td>VZ</td>\n",
       "      <td>0.250683</td>\n",
       "    </tr>\n",
       "    <tr>\n",
       "      <th>7</th>\n",
       "      <td>DISCK</td>\n",
       "      <td>0.199725</td>\n",
       "    </tr>\n",
       "    <tr>\n",
       "      <th>16</th>\n",
       "      <td>NWSA</td>\n",
       "      <td>0.144258</td>\n",
       "    </tr>\n",
       "    <tr>\n",
       "      <th>17</th>\n",
       "      <td>NWS</td>\n",
       "      <td>0.105516</td>\n",
       "    </tr>\n",
       "    <tr>\n",
       "      <th>18</th>\n",
       "      <td>OMC</td>\n",
       "      <td>-0.043219</td>\n",
       "    </tr>\n",
       "  </tbody>\n",
       "</table>\n",
       "</div>"
      ],
      "text/plain": [
       "   Ticker       ROI\n",
       "15   NFLX  1.689262\n",
       "22   TWTR  1.209302\n",
       "19   TMUS  1.105715\n",
       "4    CHTR  0.895722\n",
       "20   TTWO  0.840804\n",
       "14    LYV  0.722861\n",
       "21    DIS  0.666390\n",
       "2    GOOG  0.644958\n",
       "1   GOOGL  0.633082\n",
       "10     FB  0.505677\n",
       "0    ATVI  0.472510\n",
       "5   CMCSA  0.353947\n",
       "13    IPG  0.324075\n",
       "9      EA  0.313763\n",
       "6   DISCA  0.302034\n",
       "23     VZ  0.250683\n",
       "7   DISCK  0.199725\n",
       "16   NWSA  0.144258\n",
       "17    NWS  0.105516\n",
       "18    OMC -0.043219"
      ]
     },
     "metadata": {},
     "execution_count": 18
    }
   ],
   "metadata": {}
  },
  {
   "cell_type": "markdown",
   "source": [
    "## Top Staples"
   ],
   "metadata": {}
  },
  {
   "cell_type": "code",
   "execution_count": 19,
   "source": [
    "staple.sort_values(by=['ROI'], ascending=False).head(5)"
   ],
   "outputs": [
    {
     "output_type": "execute_result",
     "data": {
      "text/html": [
       "<div>\n",
       "<style scoped>\n",
       "    .dataframe tbody tr th:only-of-type {\n",
       "        vertical-align: middle;\n",
       "    }\n",
       "\n",
       "    .dataframe tbody tr th {\n",
       "        vertical-align: top;\n",
       "    }\n",
       "\n",
       "    .dataframe thead th {\n",
       "        text-align: right;\n",
       "    }\n",
       "</style>\n",
       "<table border=\"1\" class=\"dataframe\">\n",
       "  <thead>\n",
       "    <tr style=\"text-align: right;\">\n",
       "      <th></th>\n",
       "      <th>Ticker</th>\n",
       "      <th>ROI</th>\n",
       "    </tr>\n",
       "  </thead>\n",
       "  <tbody>\n",
       "    <tr>\n",
       "      <th>10</th>\n",
       "      <td>EL</td>\n",
       "      <td>1.145196</td>\n",
       "    </tr>\n",
       "    <tr>\n",
       "      <th>9</th>\n",
       "      <td>COST</td>\n",
       "      <td>1.112863</td>\n",
       "    </tr>\n",
       "    <tr>\n",
       "      <th>19</th>\n",
       "      <td>MKC</td>\n",
       "      <td>0.977708</td>\n",
       "    </tr>\n",
       "    <tr>\n",
       "      <th>3</th>\n",
       "      <td>CHD</td>\n",
       "      <td>0.838448</td>\n",
       "    </tr>\n",
       "    <tr>\n",
       "      <th>25</th>\n",
       "      <td>PG</td>\n",
       "      <td>0.674050</td>\n",
       "    </tr>\n",
       "  </tbody>\n",
       "</table>\n",
       "</div>"
      ],
      "text/plain": [
       "   Ticker       ROI\n",
       "10     EL  1.145196\n",
       "9    COST  1.112863\n",
       "19    MKC  0.977708\n",
       "3     CHD  0.838448\n",
       "25     PG  0.674050"
      ]
     },
     "metadata": {},
     "execution_count": 19
    }
   ],
   "metadata": {}
  },
  {
   "cell_type": "markdown",
   "source": [
    "## Top Discretionary"
   ],
   "metadata": {}
  },
  {
   "cell_type": "code",
   "execution_count": 20,
   "source": [
    "discretion.sort_values(by=['ROI'], ascending=False).head(5)"
   ],
   "outputs": [
    {
     "output_type": "execute_result",
     "data": {
      "text/html": [
       "<div>\n",
       "<style scoped>\n",
       "    .dataframe tbody tr th:only-of-type {\n",
       "        vertical-align: middle;\n",
       "    }\n",
       "\n",
       "    .dataframe tbody tr th {\n",
       "        vertical-align: top;\n",
       "    }\n",
       "\n",
       "    .dataframe thead th {\n",
       "        text-align: right;\n",
       "    }\n",
       "</style>\n",
       "<table border=\"1\" class=\"dataframe\">\n",
       "  <thead>\n",
       "    <tr style=\"text-align: right;\">\n",
       "      <th></th>\n",
       "      <th>Ticker</th>\n",
       "      <th>ROI</th>\n",
       "    </tr>\n",
       "  </thead>\n",
       "  <tbody>\n",
       "    <tr>\n",
       "      <th>52</th>\n",
       "      <td>TSLA</td>\n",
       "      <td>10.007861</td>\n",
       "    </tr>\n",
       "    <tr>\n",
       "      <th>17</th>\n",
       "      <td>ETSY</td>\n",
       "      <td>7.541047</td>\n",
       "    </tr>\n",
       "    <tr>\n",
       "      <th>10</th>\n",
       "      <td>CMG</td>\n",
       "      <td>3.733606</td>\n",
       "    </tr>\n",
       "    <tr>\n",
       "      <th>43</th>\n",
       "      <td>POOL</td>\n",
       "      <td>1.931030</td>\n",
       "    </tr>\n",
       "    <tr>\n",
       "      <th>51</th>\n",
       "      <td>TGT</td>\n",
       "      <td>1.839621</td>\n",
       "    </tr>\n",
       "  </tbody>\n",
       "</table>\n",
       "</div>"
      ],
      "text/plain": [
       "   Ticker        ROI\n",
       "52   TSLA  10.007861\n",
       "17   ETSY   7.541047\n",
       "10    CMG   3.733606\n",
       "43   POOL   1.931030\n",
       "51    TGT   1.839621"
      ]
     },
     "metadata": {},
     "execution_count": 20
    }
   ],
   "metadata": {}
  },
  {
   "cell_type": "markdown",
   "source": [
    "## Top Utilities"
   ],
   "metadata": {}
  },
  {
   "cell_type": "code",
   "execution_count": 21,
   "source": [
    "utility.sort_values(by=['ROI'], ascending=False).head(5)"
   ],
   "outputs": [
    {
     "output_type": "execute_result",
     "data": {
      "text/html": [
       "<div>\n",
       "<style scoped>\n",
       "    .dataframe tbody tr th:only-of-type {\n",
       "        vertical-align: middle;\n",
       "    }\n",
       "\n",
       "    .dataframe tbody tr th {\n",
       "        vertical-align: top;\n",
       "    }\n",
       "\n",
       "    .dataframe thead th {\n",
       "        text-align: right;\n",
       "    }\n",
       "</style>\n",
       "<table border=\"1\" class=\"dataframe\">\n",
       "  <thead>\n",
       "    <tr style=\"text-align: right;\">\n",
       "      <th></th>\n",
       "      <th>Ticker</th>\n",
       "      <th>ROI</th>\n",
       "    </tr>\n",
       "  </thead>\n",
       "  <tbody>\n",
       "    <tr>\n",
       "      <th>0</th>\n",
       "      <td>AES</td>\n",
       "      <td>1.402913</td>\n",
       "    </tr>\n",
       "    <tr>\n",
       "      <th>18</th>\n",
       "      <td>NEE</td>\n",
       "      <td>1.136333</td>\n",
       "    </tr>\n",
       "    <tr>\n",
       "      <th>4</th>\n",
       "      <td>AWK</td>\n",
       "      <td>0.819223</td>\n",
       "    </tr>\n",
       "    <tr>\n",
       "      <th>26</th>\n",
       "      <td>WEC</td>\n",
       "      <td>0.530405</td>\n",
       "    </tr>\n",
       "    <tr>\n",
       "      <th>27</th>\n",
       "      <td>XEL</td>\n",
       "      <td>0.519897</td>\n",
       "    </tr>\n",
       "  </tbody>\n",
       "</table>\n",
       "</div>"
      ],
      "text/plain": [
       "   Ticker       ROI\n",
       "0     AES  1.402913\n",
       "18    NEE  1.136333\n",
       "4     AWK  0.819223\n",
       "26    WEC  0.530405\n",
       "27    XEL  0.519897"
      ]
     },
     "metadata": {},
     "execution_count": 21
    }
   ],
   "metadata": {}
  },
  {
   "cell_type": "markdown",
   "source": [
    "## Top Finance"
   ],
   "metadata": {}
  },
  {
   "cell_type": "code",
   "execution_count": 22,
   "source": [
    "finance.sort_values(by=['ROI'], ascending=False).head(5)"
   ],
   "outputs": [
    {
     "output_type": "execute_result",
     "data": {
      "text/html": [
       "<div>\n",
       "<style scoped>\n",
       "    .dataframe tbody tr th:only-of-type {\n",
       "        vertical-align: middle;\n",
       "    }\n",
       "\n",
       "    .dataframe tbody tr th {\n",
       "        vertical-align: top;\n",
       "    }\n",
       "\n",
       "    .dataframe thead th {\n",
       "        text-align: right;\n",
       "    }\n",
       "</style>\n",
       "<table border=\"1\" class=\"dataframe\">\n",
       "  <thead>\n",
       "    <tr style=\"text-align: right;\">\n",
       "      <th></th>\n",
       "      <th>Ticker</th>\n",
       "      <th>ROI</th>\n",
       "    </tr>\n",
       "  </thead>\n",
       "  <tbody>\n",
       "    <tr>\n",
       "      <th>39</th>\n",
       "      <td>MSCI</td>\n",
       "      <td>2.612068</td>\n",
       "    </tr>\n",
       "    <tr>\n",
       "      <th>34</th>\n",
       "      <td>MKTX</td>\n",
       "      <td>1.860333</td>\n",
       "    </tr>\n",
       "    <tr>\n",
       "      <th>6</th>\n",
       "      <td>AJG</td>\n",
       "      <td>1.112315</td>\n",
       "    </tr>\n",
       "    <tr>\n",
       "      <th>37</th>\n",
       "      <td>MCO</td>\n",
       "      <td>1.044882</td>\n",
       "    </tr>\n",
       "    <tr>\n",
       "      <th>49</th>\n",
       "      <td>SPGI</td>\n",
       "      <td>1.012123</td>\n",
       "    </tr>\n",
       "  </tbody>\n",
       "</table>\n",
       "</div>"
      ],
      "text/plain": [
       "   Ticker       ROI\n",
       "39   MSCI  2.612068\n",
       "34   MKTX  1.860333\n",
       "6     AJG  1.112315\n",
       "37    MCO  1.044882\n",
       "49   SPGI  1.012123"
      ]
     },
     "metadata": {},
     "execution_count": 22
    }
   ],
   "metadata": {}
  },
  {
   "cell_type": "markdown",
   "source": [
    "## Top Materials"
   ],
   "metadata": {}
  },
  {
   "cell_type": "code",
   "execution_count": 23,
   "source": [
    "material.sort_values(by=['ROI'], ascending=False).head(5)"
   ],
   "outputs": [
    {
     "output_type": "execute_result",
     "data": {
      "text/html": [
       "<div>\n",
       "<style scoped>\n",
       "    .dataframe tbody tr th:only-of-type {\n",
       "        vertical-align: middle;\n",
       "    }\n",
       "\n",
       "    .dataframe tbody tr th {\n",
       "        vertical-align: top;\n",
       "    }\n",
       "\n",
       "    .dataframe thead th {\n",
       "        text-align: right;\n",
       "    }\n",
       "</style>\n",
       "<table border=\"1\" class=\"dataframe\">\n",
       "  <thead>\n",
       "    <tr style=\"text-align: right;\">\n",
       "      <th></th>\n",
       "      <th>Ticker</th>\n",
       "      <th>ROI</th>\n",
       "    </tr>\n",
       "  </thead>\n",
       "  <tbody>\n",
       "    <tr>\n",
       "      <th>3</th>\n",
       "      <td>BLL</td>\n",
       "      <td>1.474667</td>\n",
       "    </tr>\n",
       "    <tr>\n",
       "      <th>22</th>\n",
       "      <td>SHW</td>\n",
       "      <td>0.824243</td>\n",
       "    </tr>\n",
       "    <tr>\n",
       "      <th>14</th>\n",
       "      <td>LIN</td>\n",
       "      <td>0.785525</td>\n",
       "    </tr>\n",
       "    <tr>\n",
       "      <th>0</th>\n",
       "      <td>APD</td>\n",
       "      <td>0.771644</td>\n",
       "    </tr>\n",
       "    <tr>\n",
       "      <th>17</th>\n",
       "      <td>NEM</td>\n",
       "      <td>0.689577</td>\n",
       "    </tr>\n",
       "  </tbody>\n",
       "</table>\n",
       "</div>"
      ],
      "text/plain": [
       "   Ticker       ROI\n",
       "3     BLL  1.474667\n",
       "22    SHW  0.824243\n",
       "14    LIN  0.785525\n",
       "0     APD  0.771644\n",
       "17    NEM  0.689577"
      ]
     },
     "metadata": {},
     "execution_count": 23
    }
   ],
   "metadata": {}
  },
  {
   "cell_type": "markdown",
   "source": [
    "## Top Real Estate"
   ],
   "metadata": {}
  },
  {
   "cell_type": "code",
   "execution_count": 24,
   "source": [
    "restate.sort_values(by=['ROI'], ascending=False).head(5)"
   ],
   "outputs": [
    {
     "output_type": "execute_result",
     "data": {
      "text/html": [
       "<div>\n",
       "<style scoped>\n",
       "    .dataframe tbody tr th:only-of-type {\n",
       "        vertical-align: middle;\n",
       "    }\n",
       "\n",
       "    .dataframe tbody tr th {\n",
       "        vertical-align: top;\n",
       "    }\n",
       "\n",
       "    .dataframe thead th {\n",
       "        text-align: right;\n",
       "    }\n",
       "</style>\n",
       "<table border=\"1\" class=\"dataframe\">\n",
       "  <thead>\n",
       "    <tr style=\"text-align: right;\">\n",
       "      <th></th>\n",
       "      <th>Ticker</th>\n",
       "      <th>ROI</th>\n",
       "    </tr>\n",
       "  </thead>\n",
       "  <tbody>\n",
       "    <tr>\n",
       "      <th>21</th>\n",
       "      <td>SBAC</td>\n",
       "      <td>0.772695</td>\n",
       "    </tr>\n",
       "    <tr>\n",
       "      <th>8</th>\n",
       "      <td>EQIX</td>\n",
       "      <td>0.692928</td>\n",
       "    </tr>\n",
       "    <tr>\n",
       "      <th>17</th>\n",
       "      <td>PLD</td>\n",
       "      <td>0.689758</td>\n",
       "    </tr>\n",
       "    <tr>\n",
       "      <th>1</th>\n",
       "      <td>AMT</td>\n",
       "      <td>0.685782</td>\n",
       "    </tr>\n",
       "    <tr>\n",
       "      <th>5</th>\n",
       "      <td>CCI</td>\n",
       "      <td>0.622156</td>\n",
       "    </tr>\n",
       "  </tbody>\n",
       "</table>\n",
       "</div>"
      ],
      "text/plain": [
       "   Ticker       ROI\n",
       "21   SBAC  0.772695\n",
       "8    EQIX  0.692928\n",
       "17    PLD  0.689758\n",
       "1     AMT  0.685782\n",
       "5     CCI  0.622156"
      ]
     },
     "metadata": {},
     "execution_count": 24
    }
   ],
   "metadata": {}
  },
  {
   "cell_type": "markdown",
   "source": [
    "## Top Energy"
   ],
   "metadata": {}
  },
  {
   "cell_type": "code",
   "execution_count": 25,
   "source": [
    "energy.sort_values(by=['ROI'], ascending=False).head(5)"
   ],
   "outputs": [
    {
     "output_type": "execute_result",
     "data": {
      "text/html": [
       "<div>\n",
       "<style scoped>\n",
       "    .dataframe tbody tr th:only-of-type {\n",
       "        vertical-align: middle;\n",
       "    }\n",
       "\n",
       "    .dataframe tbody tr th {\n",
       "        vertical-align: top;\n",
       "    }\n",
       "\n",
       "    .dataframe thead th {\n",
       "        text-align: right;\n",
       "    }\n",
       "</style>\n",
       "<table border=\"1\" class=\"dataframe\">\n",
       "  <thead>\n",
       "    <tr style=\"text-align: right;\">\n",
       "      <th></th>\n",
       "      <th>Ticker</th>\n",
       "      <th>ROI</th>\n",
       "    </tr>\n",
       "  </thead>\n",
       "  <tbody>\n",
       "    <tr>\n",
       "      <th>9</th>\n",
       "      <td>HES</td>\n",
       "      <td>0.168440</td>\n",
       "    </tr>\n",
       "    <tr>\n",
       "      <th>15</th>\n",
       "      <td>OKE</td>\n",
       "      <td>-0.131482</td>\n",
       "    </tr>\n",
       "    <tr>\n",
       "      <th>10</th>\n",
       "      <td>KMI</td>\n",
       "      <td>-0.146362</td>\n",
       "    </tr>\n",
       "    <tr>\n",
       "      <th>3</th>\n",
       "      <td>COP</td>\n",
       "      <td>-0.217487</td>\n",
       "    </tr>\n",
       "    <tr>\n",
       "      <th>20</th>\n",
       "      <td>WMB</td>\n",
       "      <td>-0.218709</td>\n",
       "    </tr>\n",
       "  </tbody>\n",
       "</table>\n",
       "</div>"
      ],
      "text/plain": [
       "   Ticker       ROI\n",
       "9     HES  0.168440\n",
       "15    OKE -0.131482\n",
       "10    KMI -0.146362\n",
       "3     COP -0.217487\n",
       "20    WMB -0.218709"
      ]
     },
     "metadata": {},
     "execution_count": 25
    }
   ],
   "metadata": {}
  },
  {
   "cell_type": "markdown",
   "source": [
    "## Portfolio List"
   ],
   "metadata": {}
  },
  {
   "cell_type": "code",
   "execution_count": 27,
   "source": [
    "port_list = [\"GNRC\" , \"DXCM\", \"ENPH\" , \"NFLX\" , \"EL\" , \"TSLA\" , \"AES\" , \"MSCI\" , \"BLL\" , \"SBAC\" , \"HES\"]"
   ],
   "outputs": [],
   "metadata": {}
  },
  {
   "cell_type": "markdown",
   "source": [
    "## Check for Correlation"
   ],
   "metadata": {}
  },
  {
   "cell_type": "code",
   "execution_count": 28,
   "source": [
    "mult_df = merge_df_by_column_name('daily_return',  '2018-01-01', \r\n",
    "                                  '2020-12-31', *port_list)\r\n",
    "mult_df\r\n",
    "\r\n",
    "# Generate a Correlation Matrix\r\n",
    "mult_df.corr()"
   ],
   "outputs": [
    {
     "output_type": "execute_result",
     "data": {
      "text/html": [
       "<div>\n",
       "<style scoped>\n",
       "    .dataframe tbody tr th:only-of-type {\n",
       "        vertical-align: middle;\n",
       "    }\n",
       "\n",
       "    .dataframe tbody tr th {\n",
       "        vertical-align: top;\n",
       "    }\n",
       "\n",
       "    .dataframe thead th {\n",
       "        text-align: right;\n",
       "    }\n",
       "</style>\n",
       "<table border=\"1\" class=\"dataframe\">\n",
       "  <thead>\n",
       "    <tr style=\"text-align: right;\">\n",
       "      <th></th>\n",
       "      <th>GNRC</th>\n",
       "      <th>DXCM</th>\n",
       "      <th>ENPH</th>\n",
       "      <th>NFLX</th>\n",
       "      <th>EL</th>\n",
       "      <th>TSLA</th>\n",
       "      <th>AES</th>\n",
       "      <th>MSCI</th>\n",
       "      <th>BLL</th>\n",
       "      <th>SBAC</th>\n",
       "      <th>HES</th>\n",
       "    </tr>\n",
       "  </thead>\n",
       "  <tbody>\n",
       "    <tr>\n",
       "      <th>GNRC</th>\n",
       "      <td>1.000000</td>\n",
       "      <td>0.289526</td>\n",
       "      <td>0.344129</td>\n",
       "      <td>0.340732</td>\n",
       "      <td>0.418513</td>\n",
       "      <td>0.321049</td>\n",
       "      <td>0.433322</td>\n",
       "      <td>0.515742</td>\n",
       "      <td>0.446344</td>\n",
       "      <td>0.444762</td>\n",
       "      <td>0.426870</td>\n",
       "    </tr>\n",
       "    <tr>\n",
       "      <th>DXCM</th>\n",
       "      <td>0.289526</td>\n",
       "      <td>1.000000</td>\n",
       "      <td>0.212156</td>\n",
       "      <td>0.307643</td>\n",
       "      <td>0.263909</td>\n",
       "      <td>0.293396</td>\n",
       "      <td>0.218424</td>\n",
       "      <td>0.469509</td>\n",
       "      <td>0.268963</td>\n",
       "      <td>0.243462</td>\n",
       "      <td>0.243239</td>\n",
       "    </tr>\n",
       "    <tr>\n",
       "      <th>ENPH</th>\n",
       "      <td>0.344129</td>\n",
       "      <td>0.212156</td>\n",
       "      <td>1.000000</td>\n",
       "      <td>0.282688</td>\n",
       "      <td>0.256654</td>\n",
       "      <td>0.280869</td>\n",
       "      <td>0.261715</td>\n",
       "      <td>0.341827</td>\n",
       "      <td>0.195593</td>\n",
       "      <td>0.207225</td>\n",
       "      <td>0.299728</td>\n",
       "    </tr>\n",
       "    <tr>\n",
       "      <th>NFLX</th>\n",
       "      <td>0.340732</td>\n",
       "      <td>0.307643</td>\n",
       "      <td>0.282688</td>\n",
       "      <td>1.000000</td>\n",
       "      <td>0.293105</td>\n",
       "      <td>0.360827</td>\n",
       "      <td>0.204158</td>\n",
       "      <td>0.449132</td>\n",
       "      <td>0.280443</td>\n",
       "      <td>0.216936</td>\n",
       "      <td>0.217857</td>\n",
       "    </tr>\n",
       "    <tr>\n",
       "      <th>EL</th>\n",
       "      <td>0.418513</td>\n",
       "      <td>0.263909</td>\n",
       "      <td>0.256654</td>\n",
       "      <td>0.293105</td>\n",
       "      <td>1.000000</td>\n",
       "      <td>0.277749</td>\n",
       "      <td>0.407448</td>\n",
       "      <td>0.457616</td>\n",
       "      <td>0.446227</td>\n",
       "      <td>0.397506</td>\n",
       "      <td>0.445605</td>\n",
       "    </tr>\n",
       "    <tr>\n",
       "      <th>TSLA</th>\n",
       "      <td>0.321049</td>\n",
       "      <td>0.293396</td>\n",
       "      <td>0.280869</td>\n",
       "      <td>0.360827</td>\n",
       "      <td>0.277749</td>\n",
       "      <td>1.000000</td>\n",
       "      <td>0.273606</td>\n",
       "      <td>0.373189</td>\n",
       "      <td>0.243563</td>\n",
       "      <td>0.181884</td>\n",
       "      <td>0.259790</td>\n",
       "    </tr>\n",
       "    <tr>\n",
       "      <th>AES</th>\n",
       "      <td>0.433322</td>\n",
       "      <td>0.218424</td>\n",
       "      <td>0.261715</td>\n",
       "      <td>0.204158</td>\n",
       "      <td>0.407448</td>\n",
       "      <td>0.273606</td>\n",
       "      <td>1.000000</td>\n",
       "      <td>0.483399</td>\n",
       "      <td>0.368256</td>\n",
       "      <td>0.333249</td>\n",
       "      <td>0.470412</td>\n",
       "    </tr>\n",
       "    <tr>\n",
       "      <th>MSCI</th>\n",
       "      <td>0.515742</td>\n",
       "      <td>0.469509</td>\n",
       "      <td>0.341827</td>\n",
       "      <td>0.449132</td>\n",
       "      <td>0.457616</td>\n",
       "      <td>0.373189</td>\n",
       "      <td>0.483399</td>\n",
       "      <td>1.000000</td>\n",
       "      <td>0.459635</td>\n",
       "      <td>0.498281</td>\n",
       "      <td>0.411647</td>\n",
       "    </tr>\n",
       "    <tr>\n",
       "      <th>BLL</th>\n",
       "      <td>0.446344</td>\n",
       "      <td>0.268963</td>\n",
       "      <td>0.195593</td>\n",
       "      <td>0.280443</td>\n",
       "      <td>0.446227</td>\n",
       "      <td>0.243563</td>\n",
       "      <td>0.368256</td>\n",
       "      <td>0.459635</td>\n",
       "      <td>1.000000</td>\n",
       "      <td>0.556609</td>\n",
       "      <td>0.291071</td>\n",
       "    </tr>\n",
       "    <tr>\n",
       "      <th>SBAC</th>\n",
       "      <td>0.444762</td>\n",
       "      <td>0.243462</td>\n",
       "      <td>0.207225</td>\n",
       "      <td>0.216936</td>\n",
       "      <td>0.397506</td>\n",
       "      <td>0.181884</td>\n",
       "      <td>0.333249</td>\n",
       "      <td>0.498281</td>\n",
       "      <td>0.556609</td>\n",
       "      <td>1.000000</td>\n",
       "      <td>0.273548</td>\n",
       "    </tr>\n",
       "    <tr>\n",
       "      <th>HES</th>\n",
       "      <td>0.426870</td>\n",
       "      <td>0.243239</td>\n",
       "      <td>0.299728</td>\n",
       "      <td>0.217857</td>\n",
       "      <td>0.445605</td>\n",
       "      <td>0.259790</td>\n",
       "      <td>0.470412</td>\n",
       "      <td>0.411647</td>\n",
       "      <td>0.291071</td>\n",
       "      <td>0.273548</td>\n",
       "      <td>1.000000</td>\n",
       "    </tr>\n",
       "  </tbody>\n",
       "</table>\n",
       "</div>"
      ],
      "text/plain": [
       "          GNRC      DXCM      ENPH      NFLX        EL      TSLA       AES  \\\n",
       "GNRC  1.000000  0.289526  0.344129  0.340732  0.418513  0.321049  0.433322   \n",
       "DXCM  0.289526  1.000000  0.212156  0.307643  0.263909  0.293396  0.218424   \n",
       "ENPH  0.344129  0.212156  1.000000  0.282688  0.256654  0.280869  0.261715   \n",
       "NFLX  0.340732  0.307643  0.282688  1.000000  0.293105  0.360827  0.204158   \n",
       "EL    0.418513  0.263909  0.256654  0.293105  1.000000  0.277749  0.407448   \n",
       "TSLA  0.321049  0.293396  0.280869  0.360827  0.277749  1.000000  0.273606   \n",
       "AES   0.433322  0.218424  0.261715  0.204158  0.407448  0.273606  1.000000   \n",
       "MSCI  0.515742  0.469509  0.341827  0.449132  0.457616  0.373189  0.483399   \n",
       "BLL   0.446344  0.268963  0.195593  0.280443  0.446227  0.243563  0.368256   \n",
       "SBAC  0.444762  0.243462  0.207225  0.216936  0.397506  0.181884  0.333249   \n",
       "HES   0.426870  0.243239  0.299728  0.217857  0.445605  0.259790  0.470412   \n",
       "\n",
       "          MSCI       BLL      SBAC       HES  \n",
       "GNRC  0.515742  0.446344  0.444762  0.426870  \n",
       "DXCM  0.469509  0.268963  0.243462  0.243239  \n",
       "ENPH  0.341827  0.195593  0.207225  0.299728  \n",
       "NFLX  0.449132  0.280443  0.216936  0.217857  \n",
       "EL    0.457616  0.446227  0.397506  0.445605  \n",
       "TSLA  0.373189  0.243563  0.181884  0.259790  \n",
       "AES   0.483399  0.368256  0.333249  0.470412  \n",
       "MSCI  1.000000  0.459635  0.498281  0.411647  \n",
       "BLL   0.459635  1.000000  0.556609  0.291071  \n",
       "SBAC  0.498281  0.556609  1.000000  0.273548  \n",
       "HES   0.411647  0.291071  0.273548  1.000000  "
      ]
     },
     "metadata": {},
     "execution_count": 28
    }
   ],
   "metadata": {}
  },
  {
   "cell_type": "code",
   "execution_count": 29,
   "source": [
    "# Get the number of samples\r\n",
    "days = len(mult_df.index)\r\n",
    "days"
   ],
   "outputs": [
    {
     "output_type": "execute_result",
     "data": {
      "text/plain": [
       "756"
      ]
     },
     "metadata": {},
     "execution_count": 29
    }
   ],
   "metadata": {}
  },
  {
   "cell_type": "code",
   "execution_count": 30,
   "source": [
    "def get_stock_price_on_date(ticker, date):\r\n",
    "    df = get_df_from_csv(ticker)\r\n",
    "    df = df.set_index(['Date'])\r\n",
    "    return df.loc[date,'Adj Close']"
   ],
   "outputs": [],
   "metadata": {}
  },
  {
   "cell_type": "code",
   "execution_count": 31,
   "source": [
    "# 01-04-2021 is the 1st date in 2021\r\n",
    "print(\"GNRC $\", get_stock_price_on_date('GNRC', '2021-01-04')) \r\n",
    "print(\"DXCM $\", get_stock_price_on_date('DXCM', '2021-01-04')) \r\n",
    "print(\"ENPH $\", get_stock_price_on_date('ENPH', '2021-01-04')) \r\n",
    "print(\"NFLX $\", get_stock_price_on_date('NFLX', '2021-01-04'))\r\n",
    "print(\"EL $\", get_stock_price_on_date('EL', '2021-01-04')) \r\n",
    "print(\"TSLA $\", get_stock_price_on_date('TSLA', '2021-01-04')) \r\n",
    "print(\"AES $\", get_stock_price_on_date('AES', '2021-01-04')) \r\n",
    "print(\"MSCI $\", get_stock_price_on_date('MSCI', '2021-01-04')) \r\n",
    "print(\"BLL $\", get_stock_price_on_date('BLL', '2021-01-04')) \r\n",
    "print(\"SBAC $\", get_stock_price_on_date('SBAC', '2021-01-04')) \r\n",
    "print(\"HES $\", get_stock_price_on_date('HES', '2021-01-04')) \r\n",
    "\r\n"
   ],
   "outputs": [
    {
     "output_type": "stream",
     "name": "stdout",
     "text": [
      "GNRC $ 224.5599975585937\n",
      "DXCM $ 357.739990234375\n",
      "ENPH $ 172.24000549316406\n",
      "NFLX $ 522.8599853515625\n",
      "EL $ 253.69464111328125\n",
      "TSLA $ 729.77001953125\n",
      "AES $ 22.819656372070312\n",
      "MSCI $ 435.3967590332031\n",
      "BLL $ 89.25436401367188\n",
      "SBAC $ 273.9728698730469\n",
      "HES $ 52.284915924072266\n"
     ]
    }
   ],
   "metadata": {}
  },
  {
   "cell_type": "markdown",
   "source": [
    "## Returns Portfolio Weight"
   ],
   "metadata": {}
  },
  {
   "cell_type": "code",
   "execution_count": 32,
   "source": [
    "def get_port_weight(price, total):\r\n",
    "    return price / total"
   ],
   "outputs": [],
   "metadata": {}
  },
  {
   "cell_type": "code",
   "execution_count": 33,
   "source": [
    "# BASED on the hypethetical investments made into the following stocks\r\n",
    "\r\n",
    "gnrc_w = get_port_weight(449.12, 4905.98)\r\n",
    "dxcm_w = get_port_weight(357.74, 4905.98)\r\n",
    "amd_w = get_port_weight(369.2, 4905.98)\r\n",
    "nflx_w = get_port_weight(522.86, 4905.98)\r\n",
    "cost_w = get_port_weight(377.88, 4905.98)\r\n",
    "tgt_w = get_port_weight(527.46, 4905.98)\r\n",
    "aes_w = get_port_weight(410.76, 4905.98)\r\n",
    "msci_w = get_port_weight(435.40, 4905.98)\r\n",
    "nem_w = get_port_weight(434.49, 4905.98)\r\n",
    "sbac_w = get_port_weight(548.84, 4905.98)\r\n",
    "hes_w = get_port_weight(472.23, 4905.98)\r\n",
    "\r\n",
    "wts = np.array([gnrc_w, dxcm_w, amd_w, nflx_w, cost_w, tgt_w, aes_w, msci_w, \\\r\n",
    "                nem_w, sbac_w, hes_w])\r\n",
    "wts\r\n",
    "\r\n",
    "port_var = np.dot(wts.T, np.dot(mult_df.cov() * 756, wts))\r\n",
    "print(\"Portfolio Covariance :\", port_var)\r\n",
    "print(\"GNRC Var :\", mult_df[\"GNRC\"].var() * 756)\r\n",
    "print(\"NFLX Var :\", mult_df[\"NFLX\"].var() * 756)"
   ],
   "outputs": [
    {
     "output_type": "stream",
     "name": "stdout",
     "text": [
      "Portfolio Covariance : 0.24587314908145463\n",
      "GNRC Var : 0.43946543607242483\n",
      "NFLX Var : 0.5477253623043377\n"
     ]
    }
   ],
   "metadata": {}
  },
  {
   "cell_type": "markdown",
   "source": [
    "## Different Types of Risk"
   ],
   "metadata": {}
  },
  {
   "cell_type": "markdown",
   "source": [
    "There is risk that you can limit through diversifaction (Idiosyncratic) and risk that you can't (Systematic). Systematic risk \n",
    "is caused by unforeseen conditions such as wars, recessions, natural disasters, dramatic changes in consumer actions, etc.\n",
    "\n",
    "Data tells us that if we make a portfolio made up of approximately 25 stocks that aren't correlated that we can dramatically\n",
    "lower idiosyncratic risk. That is one reason why people invest in indexes. You can further lower risk by investing in\n",
    "other countries, bonds and cash."
   ],
   "metadata": {}
  },
  {
   "cell_type": "markdown",
   "source": [
    "## Diversifiable Risk"
   ],
   "metadata": {}
  },
  {
   "cell_type": "code",
   "execution_count": 34,
   "source": [
    "# Diversifiable Risk = Portfolio Variance - All Weighted Variances\r\n",
    "def calc_diversifiable_risk(df, tickers, weights):\r\n",
    "    # Gets number of days\r\n",
    "    days = len(mult_df.index)\r\n",
    "    # Calculate covariance of portfolio\r\n",
    "    port_covar = np.dot(weights.T, np.dot(df.cov() * days, weights)) \r\n",
    "    \r\n",
    "    i = 0\r\n",
    "    while i < len(tickers):\r\n",
    "        wt_sq = weights[i] ** 2\r\n",
    "        stk_var = mult_df[tickers[i]].var() * days\r\n",
    "        wt_var = wt_sq * stk_var\r\n",
    "        port_covar = port_covar - wt_var\r\n",
    "        i += 1\r\n",
    "    return port_covar"
   ],
   "outputs": [],
   "metadata": {}
  },
  {
   "cell_type": "code",
   "execution_count": 35,
   "source": [
    "div_risk = calc_diversifiable_risk(mult_df, port_list, wts)\r\n",
    "div_risk"
   ],
   "outputs": [
    {
     "output_type": "execute_result",
     "data": {
      "text/plain": [
       "0.18046007010984796"
      ]
     },
     "metadata": {},
     "execution_count": 35
    }
   ],
   "metadata": {}
  },
  {
   "cell_type": "markdown",
   "source": [
    "## Find Risk that Can't be Diversified"
   ],
   "metadata": {}
  },
  {
   "cell_type": "code",
   "execution_count": 36,
   "source": [
    "print(\"Systematic Risk :\", (port_var - div_risk))"
   ],
   "outputs": [
    {
     "output_type": "stream",
     "name": "stdout",
     "text": [
      "Systematic Risk : 0.06541307897160667\n"
     ]
    }
   ],
   "metadata": {}
  }
 ],
 "metadata": {
  "orig_nbformat": 4,
  "language_info": {
   "name": "python",
   "version": "3.8.11",
   "mimetype": "text/x-python",
   "codemirror_mode": {
    "name": "ipython",
    "version": 3
   },
   "pygments_lexer": "ipython3",
   "nbconvert_exporter": "python",
   "file_extension": ".py"
  },
  "kernelspec": {
   "name": "python3",
   "display_name": "Python 3.8.11 64-bit ('NewTry': conda)"
  },
  "interpreter": {
   "hash": "f094a24a4008203dd51fb7d7659f4ccdd83309b3080c43330cabea2cf50dc1f8"
  }
 },
 "nbformat": 4,
 "nbformat_minor": 2
}