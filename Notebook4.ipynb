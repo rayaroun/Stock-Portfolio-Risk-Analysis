{
 "cells": [
  {
   "cell_type": "code",
   "execution_count": 1,
   "source": [
    "# Provides ways to work with large multidimensional arrays\r\n",
    "import numpy as np \r\n",
    "# Allows for further data manipulation and analysis\r\n",
    "import pandas as pd\r\n",
    "from pandas_datareader import data as web # Reads stock data \r\n",
    "import matplotlib.pyplot as plt # Plotting\r\n",
    "import matplotlib.dates as mdates # Styling dates\r\n",
    "%matplotlib inline\r\n",
    "\r\n",
    "import datetime as dt # For defining dates\r\n",
    "import mplfinance as mpf # Matplotlib finance\r\n",
    "\r\n",
    "import time\r\n",
    "\r\n",
    "# Used to get data from a directory\r\n",
    "import os\r\n",
    "from os import listdir\r\n",
    "from os.path import isfile, join"
   ],
   "outputs": [],
   "metadata": {}
  },
  {
   "cell_type": "markdown",
   "source": [
    "## Dates & Other Constants"
   ],
   "metadata": {}
  },
  {
   "cell_type": "code",
   "execution_count": 2,
   "source": [
    "PATH = \"Stock Data/Collection of Stocks/\"\r\n",
    "\r\n",
    "# Start date defaults\r\n",
    "S_YEAR = 2017\r\n",
    "S_MONTH = 1\r\n",
    "S_DAY = 3\r\n",
    "S_DATE_STR = \"2017-01-03\"\r\n",
    "S_DATE_DATETIME = dt.datetime(S_YEAR, S_MONTH, S_DAY)\r\n",
    "\r\n",
    "# End date defaults\r\n",
    "E_YEAR = 2021\r\n",
    "E_MONTH = 8\r\n",
    "E_DAY = 19\r\n",
    "E_DATE_STR = \"2021-10-01\"\r\n",
    "E_DATE_DATETIME = dt.datetime(E_YEAR, E_MONTH, E_DAY)"
   ],
   "outputs": [],
   "metadata": {}
  },
  {
   "cell_type": "markdown",
   "source": [
    "## Get Stock File Names in a List"
   ],
   "metadata": {}
  },
  {
   "cell_type": "code",
   "execution_count": 3,
   "source": [
    "files = [x for x in listdir(PATH) if isfile(join(PATH, x))]\r\n",
    "tickers = [os.path.splitext(x)[0] for x in files]\r\n",
    "\r\n",
    "tickers.sort()"
   ],
   "outputs": [],
   "metadata": {}
  },
  {
   "cell_type": "markdown",
   "source": [
    "## Function that Returns a Dataframe from a CSV"
   ],
   "metadata": {}
  },
  {
   "cell_type": "code",
   "execution_count": null,
   "source": [
    "def get_df_from_csv(ticker):\r\n",
    "    try:\r\n",
    "        df = pd.read_csv(PATH + ticker + '.csv')\r\n",
    "    except FileNotFoundError:\r\n",
    "        pass\r\n",
    "        # print(\"File Doesn't Exist\")\r\n",
    "    else:\r\n",
    "        return df"
   ],
   "outputs": [],
   "metadata": {}
  }
 ],
 "metadata": {
  "orig_nbformat": 4,
  "language_info": {
   "name": "python",
   "version": "3.8.11",
   "mimetype": "text/x-python",
   "codemirror_mode": {
    "name": "ipython",
    "version": 3
   },
   "pygments_lexer": "ipython3",
   "nbconvert_exporter": "python",
   "file_extension": ".py"
  },
  "kernelspec": {
   "name": "python3",
   "display_name": "Python 3.8.11 64-bit ('NewTry': conda)"
  },
  "interpreter": {
   "hash": "f094a24a4008203dd51fb7d7659f4ccdd83309b3080c43330cabea2cf50dc1f8"
  }
 },
 "nbformat": 4,
 "nbformat_minor": 2
}