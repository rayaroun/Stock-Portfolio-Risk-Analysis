{
 "cells": [
  {
   "cell_type": "code",
   "execution_count": 6,
   "source": [
    "# Provides ways to work with large multidimensional arrays\r\n",
    "import numpy as np \r\n",
    "# Allows for further data manipulation and analysis\r\n",
    "import pandas as pd\r\n",
    "from pandas_datareader import data as web # Reads stock data \r\n",
    "import matplotlib.pyplot as plt # Plotting\r\n",
    "import matplotlib.dates as mdates # Styling dates\r\n",
    "%matplotlib inline\r\n",
    "\r\n",
    "import datetime as dt # For defining dates\r\n",
    "import mplfinance as mpf # Matplotlib finance\r\n",
    "\r\n",
    "import time\r\n",
    "\r\n",
    "# Used to get data from a directory\r\n",
    "import os\r\n",
    "from os import listdir\r\n",
    "from os.path import isfile, join"
   ],
   "outputs": [],
   "metadata": {}
  },
  {
   "cell_type": "markdown",
   "source": [
    "# Lists hold stocks that are not downloaded"
   ],
   "metadata": {}
  },
  {
   "cell_type": "code",
   "execution_count": 2,
   "source": [
    "stocks_not_downloaded = []\r\n",
    "\r\n",
    "missing_stocks = []"
   ],
   "outputs": [],
   "metadata": {}
  },
  {
   "cell_type": "markdown",
   "source": [
    "# Saves Stocks Data to CSV"
   ],
   "metadata": {}
  },
  {
   "cell_type": "code",
   "execution_count": 8,
   "source": [
    "def save_to_csv_from_yahoo( folder, ticker, syear, smonth, sday, eyear, emonth, eday ):\r\n",
    "\tstart = dt.datetime(syear, smonth, sday)\r\n",
    "\tend = dt.datetime(eyear, emonth, eday)\r\n",
    "\r\n",
    "\ttry:\r\n",
    "\t\tprint(\"Get Data for : \", ticker)\r\n",
    "\t\t\r\n",
    "\t\tdf = web.DataReader(ticker, 'yahoo' , start, end)['Adj Close']\r\n",
    "\r\n",
    "\t\ttime.sleep(10)\r\n",
    "\r\n",
    "\t\tdf.to_csv(folder + ticker + '.csv')\r\n",
    "\t\r\n",
    "\texcept Exception as ex:\r\n",
    "\t\tstocks_not_downloaded.append(ticker)\r\n",
    "\t\tprint(\"Coulnd't get data for : \" , ticker)\r\n"
   ],
   "outputs": [],
   "metadata": {}
  },
  {
   "cell_type": "markdown",
   "source": [
    "# Return a stock dataframe from a csv"
   ],
   "metadata": {}
  },
  {
   "cell_type": "code",
   "execution_count": 4,
   "source": [
    "def get_stock_and_dataframe_from_csv(folder, ticker):\r\n",
    "\r\n",
    "\ttry:\r\n",
    "\t\tdf = pd.read_csv(folder+ticker+'.csv')\r\n",
    "\texcept FileNotFoundError:\r\n",
    "\t\tprint(\" File doesn't exist \")\r\n",
    "\telse:\r\n",
    "\t\treturn df"
   ],
   "outputs": [],
   "metadata": {}
  },
  {
   "cell_type": "markdown",
   "source": [
    "## Returns a Named Columns Data from a CSV"
   ],
   "metadata": {}
  },
  {
   "cell_type": "code",
   "execution_count": 10,
   "source": [
    "def get_column_from_csv(file, col_name):\r\n",
    "    # Try to get the file and if it doesn't exist issue a warning\r\n",
    "    try:\r\n",
    "        df = pd.read_csv(file)\r\n",
    "    except FileNotFoundError:\r\n",
    "        print(\"File Doesn't Exist\")\r\n",
    "    else:\r\n",
    "        return df[col_name]"
   ],
   "outputs": [],
   "metadata": {}
  },
  {
   "cell_type": "markdown",
   "source": [
    "## Test Receiving Stock Tickers"
   ],
   "metadata": {}
  },
  {
   "cell_type": "code",
   "execution_count": 11,
   "source": [
    "tickers = get_column_from_csv(\"Wilshire-5000-Stocks.csv\", \"Ticker\")\r\n",
    "tickers\r\n",
    "# for x in tickers:\r\n",
    "#     print(x, end=\", \")\r\n"
   ],
   "outputs": [
    {
     "output_type": "execute_result",
     "data": {
      "text/plain": [
       "0          A\n",
       "1         AA\n",
       "2        AAL\n",
       "3       AAME\n",
       "4        AAN\n",
       "        ... \n",
       "3476    ZUMZ\n",
       "3477     ZUO\n",
       "3478    ZYNE\n",
       "3479    ZYXI\n",
       "3480    ZNGA\n",
       "Name: Ticker, Length: 3481, dtype: object"
      ]
     },
     "metadata": {},
     "execution_count": 11
    }
   ],
   "metadata": {}
  }
 ],
 "metadata": {
  "orig_nbformat": 4,
  "language_info": {
   "name": "python",
   "version": "3.8.11",
   "mimetype": "text/x-python",
   "codemirror_mode": {
    "name": "ipython",
    "version": 3
   },
   "pygments_lexer": "ipython3",
   "nbconvert_exporter": "python",
   "file_extension": ".py"
  },
  "kernelspec": {
   "name": "python3",
   "display_name": "Python 3.8.11 64-bit ('NewTry': conda)"
  },
  "interpreter": {
   "hash": "f094a24a4008203dd51fb7d7659f4ccdd83309b3080c43330cabea2cf50dc1f8"
  }
 },
 "nbformat": 4,
 "nbformat_minor": 2
}