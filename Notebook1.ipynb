{
 "cells": [
  {
   "cell_type": "code",
   "execution_count": 2,
   "source": [
    "# Provides ways to work with large multidimensional arrays\r\n",
    "import numpy as np \r\n",
    "# Allows for further data manipulation and analysis\r\n",
    "import pandas as pd\r\n",
    "from pandas_datareader import data as web # Reads stock data \r\n",
    "import matplotlib.pyplot as plt # Plotting\r\n",
    "import matplotlib.dates as mdates # Styling dates\r\n",
    "%matplotlib inline\r\n",
    "\r\n",
    "import datetime as dt # For defining dates\r\n",
    "import mplfinance as mpf # Matplotlib finance"
   ],
   "outputs": [],
   "metadata": {}
  },
  {
   "cell_type": "markdown",
   "source": [
    "## Function that Saves Stock Data to CSV"
   ],
   "metadata": {}
  },
  {
   "cell_type": "code",
   "execution_count": 7,
   "source": [
    "# Function that gets a dataframe by providing a ticker and starting date\r\n",
    "def save_to_csv_from_yahoo(ticker, syear, smonth, sday, eyear, emonth, eday):\r\n",
    "    \r\n",
    "    # Defines the time periods to use\r\n",
    "    start = dt.datetime(syear, smonth, sday)\r\n",
    "    end = dt.datetime(eyear, emonth, eday)\r\n",
    "    \r\n",
    "    # Reads data into a dataframe\r\n",
    "    df = web.DataReader(ticker, 'yahoo', start, end)\r\n",
    "    \r\n",
    "    # Save data to a CSV file\r\n",
    "    # For Windows\r\n",
    "    df.to_csv('C:/Users/rayar/Documents/Stock Portfolio Risk Analysis/Stock Data/' + ticker + '.csv')\r\n",
    "    \r\n",
    "    return df"
   ],
   "outputs": [],
   "metadata": {}
  },
  {
   "cell_type": "markdown",
   "source": [
    "## Function that Returns a Dataframe from a CSV"
   ],
   "metadata": {}
  },
  {
   "cell_type": "code",
   "execution_count": 8,
   "source": [
    "# Reads a dataframe from the CSV file, changes index to date and returns it\r\n",
    "def get_df_from_csv(ticker):\r\n",
    "    \r\n",
    "    # Try to get the file and if it doesn't exist issue a warning\r\n",
    "    try:\r\n",
    "        # For Windows\r\n",
    "        df = pd.read_csv('C:/Users/rayar/Documents/Stock Portfolio Risk Analysis/Stock Data/' + ticker + '.csv')\r\n",
    "        \r\n",
    "    except FileNotFoundError:\r\n",
    "        print(\"File Doesn't Exist\")\r\n",
    "    else:\r\n",
    "        return df"
   ],
   "outputs": [],
   "metadata": {}
  },
  {
   "cell_type": "markdown",
   "source": [
    "## Add Daily Return to Dataframe"
   ],
   "metadata": {}
  },
  {
   "cell_type": "code",
   "execution_count": 9,
   "source": [
    "# We calculate a percentage rate of return for each day to compare investments.\r\n",
    "# Simple Rate of Return = (End Price - Beginning Price) / Beginning Price OR (EP / BP) - 1\r\n",
    "\r\n",
    "# Shift provides the value from the previous day\r\n",
    "# NaN is displayed because there was no previous day price for the 1st calculation\r\n",
    "def add_daily_return_to_df(df, ticker):\r\n",
    "    df['daily_return'] = (df['Adj Close'] / df['Adj Close'].shift(1)) - 1\r\n",
    "    # Save data to a CSV file\r\n",
    "    # For Windows\r\n",
    "    df.to_csv('C:/Users/rayar/Documents/Stock Portfolio Risk Analysis/Stock Data/' + ticker + '.csv')\r\n",
    "    \r\n",
    "    return df  "
   ],
   "outputs": [],
   "metadata": {}
  }
 ],
 "metadata": {
  "orig_nbformat": 4,
  "language_info": {
   "name": "python",
   "version": "3.8.11",
   "mimetype": "text/x-python",
   "codemirror_mode": {
    "name": "ipython",
    "version": 3
   },
   "pygments_lexer": "ipython3",
   "nbconvert_exporter": "python",
   "file_extension": ".py"
  },
  "kernelspec": {
   "name": "python3",
   "display_name": "Python 3.8.11 64-bit ('NewTry': conda)"
  },
  "interpreter": {
   "hash": "f094a24a4008203dd51fb7d7659f4ccdd83309b3080c43330cabea2cf50dc1f8"
  }
 },
 "nbformat": 4,
 "nbformat_minor": 2
}