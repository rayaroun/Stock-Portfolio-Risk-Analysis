{
 "cells": [
  {
   "cell_type": "code",
   "execution_count": 1,
   "source": [
    "# Provides ways to work with large multidimensional arrays\r\n",
    "import numpy as np \r\n",
    "# Allows for further data manipulation and analysis\r\n",
    "import pandas as pd\r\n",
    "import pandas_datareader.data as reader\r\n",
    "from pandas_datareader import data as web # Reads stock data \r\n",
    "import matplotlib.pyplot as plt # Plotting\r\n",
    "import matplotlib.dates as mdates # Styling dates\r\n",
    "%matplotlib inline\r\n",
    "\r\n",
    "import datetime as dt # For defining dates\r\n",
    "import mplfinance as mpf # Matplotlib finance"
   ],
   "outputs": [],
   "metadata": {}
  },
  {
   "cell_type": "markdown",
   "source": [
    "## Function that Saves Stock Data to CSV"
   ],
   "metadata": {}
  },
  {
   "cell_type": "code",
   "execution_count": 5,
   "source": [
    "# Function that gets a dataframe by providing a ticker and starting date\r\n",
    "def save_to_csv_from_yahoo(ticker, syear, smonth, sday, eyear, emonth, eday):\r\n",
    "    \r\n",
    "    # Defines the time periods to use\r\n",
    "    start = dt.datetime(syear, smonth, sday)\r\n",
    "    end = dt.datetime(eyear, emonth, eday)\r\n",
    "    \r\n",
    "    # Reads data into a dataframe\r\n",
    "    df = web.DataReader(ticker, 'yahoo', start, end)\r\n",
    "    \r\n",
    "    # Save data to a CSV file\r\n",
    "    # For Windows\r\n",
    "    df.to_csv('C:/Users/rayar/Documents/Stock Portfolio Risk Analysis/Stock Data/' + ticker + '.csv')\r\n",
    "    \r\n",
    "    return df"
   ],
   "outputs": [],
   "metadata": {}
  },
  {
   "cell_type": "code",
   "execution_count": 4,
   "source": [
    "x = save_to_csv_from_yahoo('ONE2-USD', 2020, 1, 1, 2021, 9 , 19)"
   ],
   "outputs": [],
   "metadata": {}
  },
  {
   "cell_type": "markdown",
   "source": [
    "## Function that Returns a Dataframe from a CSV"
   ],
   "metadata": {}
  },
  {
   "cell_type": "code",
   "execution_count": 13,
   "source": [
    "# Reads a dataframe from the CSV file, changes index to date and returns it\r\n",
    "def get_df_from_csv(ticker):\r\n",
    "    \r\n",
    "    # Try to get the file and if it doesn't exist issue a warning\r\n",
    "    try:\r\n",
    "        # For Windows\r\n",
    "        df = pd.read_csv('C:/Users/rayar/Documents/Stock Portfolio Risk Analysis/Stock Data/' + ticker + '.csv')\r\n",
    "        \r\n",
    "    except FileNotFoundError:\r\n",
    "        print(\"File Doesn't Exist\")\r\n",
    "    else:\r\n",
    "        return df"
   ],
   "outputs": [],
   "metadata": {}
  },
  {
   "cell_type": "markdown",
   "source": [
    "## Add Daily Return to Dataframe"
   ],
   "metadata": {}
  },
  {
   "cell_type": "code",
   "execution_count": 14,
   "source": [
    "# We calculate a percentage rate of return for each day to compare investments.\r\n",
    "# Simple Rate of Return = (End Price - Beginning Price) / Beginning Price OR (EP / BP) - 1\r\n",
    "\r\n",
    "# Shift provides the value from the previous day\r\n",
    "# NaN is displayed because there was no previous day price for the 1st calculation\r\n",
    "def add_daily_return_to_df(df, ticker):\r\n",
    "    df['daily_return'] = (df['Adj Close'] / df['Adj Close'].shift(1)) - 1\r\n",
    "    # Save data to a CSV file\r\n",
    "    # For Windows\r\n",
    "    df.to_csv('C:/Users/rayar/Documents/Stock Portfolio Risk Analysis/Stock Data/' + ticker + '.csv')\r\n",
    "    \r\n",
    "    return df  "
   ],
   "outputs": [],
   "metadata": {}
  },
  {
   "cell_type": "markdown",
   "source": [
    "## Returns Total Return over Time"
   ],
   "metadata": {}
  },
  {
   "cell_type": "code",
   "execution_count": 17,
   "source": [
    "def get_return_defined_time(df, syear, smonth, sday, eyear, emonth, eday):\r\n",
    "    # Create string representations for the dates\r\n",
    "    start = f\"{syear}-{smonth}-{sday}\"\r\n",
    "    end = f\"{eyear}-{emonth}-{eday}\"\r\n",
    "    df['Date'] = pd.to_datetime(df['Date'])\r\n",
    "    \r\n",
    "    # Use a mask to grab data between defined dates\r\n",
    "    mask = (df['Date'] >= start) & (df['Date'] <= end)\r\n",
    "    \r\n",
    "    # Get the mean of the column named daily return\r\n",
    "    daily_ret = df.loc[mask]['daily_return'].mean()\r\n",
    "    \r\n",
    "    # Get the number of days between 2 dates\r\n",
    "    df2 = df.loc[mask]\r\n",
    "    days = df2.shape[0]\r\n",
    "\r\n",
    "    # Return the total return between 2 dates\r\n",
    "    return (days * daily_ret)"
   ],
   "outputs": [],
   "metadata": {}
  },
  {
   "cell_type": "markdown",
   "source": [
    "## Matplotlib Finance"
   ],
   "metadata": {}
  },
  {
   "cell_type": "code",
   "execution_count": 55,
   "source": [
    "df = pd.read_csv('Stock Data/' + 'GOOG' + '.csv',index_col=0,parse_dates=True)"
   ],
   "outputs": [],
   "metadata": {}
  },
  {
   "cell_type": "code",
   "execution_count": 56,
   "source": [
    "df.head()\r\n",
    "# df.index = pd.DatetimeIndex(df['Date'])"
   ],
   "outputs": [
    {
     "output_type": "execute_result",
     "data": {
      "text/html": [
       "<div>\n",
       "<style scoped>\n",
       "    .dataframe tbody tr th:only-of-type {\n",
       "        vertical-align: middle;\n",
       "    }\n",
       "\n",
       "    .dataframe tbody tr th {\n",
       "        vertical-align: top;\n",
       "    }\n",
       "\n",
       "    .dataframe thead th {\n",
       "        text-align: right;\n",
       "    }\n",
       "</style>\n",
       "<table border=\"1\" class=\"dataframe\">\n",
       "  <thead>\n",
       "    <tr style=\"text-align: right;\">\n",
       "      <th></th>\n",
       "      <th>High</th>\n",
       "      <th>Low</th>\n",
       "      <th>Open</th>\n",
       "      <th>Close</th>\n",
       "      <th>Volume</th>\n",
       "      <th>Adj Close</th>\n",
       "    </tr>\n",
       "    <tr>\n",
       "      <th>Date</th>\n",
       "      <th></th>\n",
       "      <th></th>\n",
       "      <th></th>\n",
       "      <th></th>\n",
       "      <th></th>\n",
       "      <th></th>\n",
       "    </tr>\n",
       "  </thead>\n",
       "  <tbody>\n",
       "    <tr>\n",
       "      <th>2020-01-02</th>\n",
       "      <td>1368.140015</td>\n",
       "      <td>1341.550049</td>\n",
       "      <td>1341.550049</td>\n",
       "      <td>1367.369995</td>\n",
       "      <td>1406600</td>\n",
       "      <td>1367.369995</td>\n",
       "    </tr>\n",
       "    <tr>\n",
       "      <th>2020-01-03</th>\n",
       "      <td>1372.500000</td>\n",
       "      <td>1345.543945</td>\n",
       "      <td>1347.859985</td>\n",
       "      <td>1360.660034</td>\n",
       "      <td>1186400</td>\n",
       "      <td>1360.660034</td>\n",
       "    </tr>\n",
       "    <tr>\n",
       "      <th>2020-01-06</th>\n",
       "      <td>1396.500000</td>\n",
       "      <td>1350.000000</td>\n",
       "      <td>1350.000000</td>\n",
       "      <td>1394.209961</td>\n",
       "      <td>1732300</td>\n",
       "      <td>1394.209961</td>\n",
       "    </tr>\n",
       "    <tr>\n",
       "      <th>2020-01-07</th>\n",
       "      <td>1402.989990</td>\n",
       "      <td>1390.380005</td>\n",
       "      <td>1397.939941</td>\n",
       "      <td>1393.339966</td>\n",
       "      <td>1502700</td>\n",
       "      <td>1393.339966</td>\n",
       "    </tr>\n",
       "    <tr>\n",
       "      <th>2020-01-08</th>\n",
       "      <td>1411.579956</td>\n",
       "      <td>1390.839966</td>\n",
       "      <td>1392.079956</td>\n",
       "      <td>1404.319946</td>\n",
       "      <td>1528000</td>\n",
       "      <td>1404.319946</td>\n",
       "    </tr>\n",
       "  </tbody>\n",
       "</table>\n",
       "</div>"
      ],
      "text/plain": [
       "                   High          Low         Open        Close   Volume  \\\n",
       "Date                                                                      \n",
       "2020-01-02  1368.140015  1341.550049  1341.550049  1367.369995  1406600   \n",
       "2020-01-03  1372.500000  1345.543945  1347.859985  1360.660034  1186400   \n",
       "2020-01-06  1396.500000  1350.000000  1350.000000  1394.209961  1732300   \n",
       "2020-01-07  1402.989990  1390.380005  1397.939941  1393.339966  1502700   \n",
       "2020-01-08  1411.579956  1390.839966  1392.079956  1404.319946  1528000   \n",
       "\n",
       "              Adj Close  \n",
       "Date                     \n",
       "2020-01-02  1367.369995  \n",
       "2020-01-03  1360.660034  \n",
       "2020-01-06  1394.209961  \n",
       "2020-01-07  1393.339966  \n",
       "2020-01-08  1404.319946  "
      ]
     },
     "metadata": {},
     "execution_count": 56
    }
   ],
   "metadata": {}
  },
  {
   "cell_type": "code",
   "execution_count": 67,
   "source": [
    "# Receives a ticker and the date range for which to plot\r\n",
    "def mplfinance_plot(ticker, chart_type, syear, smonth, sday, eyear, emonth, eday):\r\n",
    "    # Create string representations for the dates\r\n",
    "    start = f\"{syear}-{smonth}-{sday}\"\r\n",
    "    end = f\"{eyear}-{emonth}-{eday}\"\r\n",
    "    \r\n",
    "    try:\r\n",
    "        \r\n",
    "        df = pd.read_csv('Stock Data/' + ticker + '.csv',index_col=0,parse_dates=True)\r\n",
    "    \r\n",
    "    except FileNotFoundError:\r\n",
    "        print(\"File Doesn't Exist\")\r\n",
    "    else:\r\n",
    "\r\n",
    "        df.index = pd.DatetimeIndex(df.Date)\r\n",
    "            \r\n",
    "        # Define to only use data between provided dates\r\n",
    "        df_sub = df.loc[start:end]\r\n",
    "        \r\n",
    "        # A candlestick chart demonstrates the daily open, high, low and closing price of a stock\r\n",
    "        mpf.plot(df_sub,type='candle')\r\n",
    "\r\n",
    "        # Plot price changes\r\n",
    "        mpf.plot(df_sub,type='line')\r\n",
    "\r\n",
    "        # Moving averages provide trend information (Average of previous 4 observations)\r\n",
    "        mpf.plot(df_sub,type='ohlc',mav=4)\r\n",
    "        \r\n",
    "        # Define a built in style\r\n",
    "        s = mpf.make_mpf_style(base_mpf_style='charles', rc={'font.size': 8})\r\n",
    "        # Pass in the defined style to the whole canvas\r\n",
    "        fig = mpf.figure(figsize=(12, 8), style=s) \r\n",
    "        # Candle stick chart subplot\r\n",
    "        ax = fig.add_subplot(2,1,1) \r\n",
    "        # Volume chart subplot\r\n",
    "        av = fig.add_subplot(2,1,2, sharex=ax)  \r\n",
    "\r\n",
    "        # You can plot multiple MAVs, volume, non-trading days\r\n",
    "        mpf.plot(df_sub,type=chart_type, mav=(3,5,7), ax=ax, volume=av, show_nontrading=True)"
   ],
   "outputs": [],
   "metadata": {}
  },
  {
   "cell_type": "markdown",
   "source": [
    "## Simple Price Plot"
   ],
   "metadata": {}
  },
  {
   "cell_type": "code",
   "execution_count": 19,
   "source": [
    "# Creates a simple price / date plot between dates\r\n",
    "def price_plot(ticker, syear, smonth, sday, eyear, emonth, eday):\r\n",
    "    # Create string representations for the dates\r\n",
    "    start = f\"{syear}-{smonth}-{sday}\"\r\n",
    "    end = f\"{eyear}-{emonth}-{eday}\"\r\n",
    "    \r\n",
    "    try:\r\n",
    " \r\n",
    "        df = pd.read_csv('Stock Data/' + ticker + '.csv')\r\n",
    " \r\n",
    "    except FileNotFoundError:\r\n",
    "        print(\"File Doesn't Exist\")\r\n",
    "    else:\r\n",
    "        \r\n",
    "        # Set data.index as DatetimeIndex\r\n",
    "        df.index = pd.DatetimeIndex(df['Date'])\r\n",
    "        \r\n",
    "        # Define to only use data between provided dates\r\n",
    "        df_sub = df.loc[start:end]\r\n",
    "        \r\n",
    "        # Convert to Numpy array\r\n",
    "        df_np = df_sub.to_numpy()\r\n",
    "        \r\n",
    "        # Get adjusted close data from the 5th column\r\n",
    "        np_adj_close = df_np[:,5]\r\n",
    "        \r\n",
    "        # Get date from the 1st\r\n",
    "        date_arr = df_np[:,1]\r\n",
    "        \r\n",
    "        # Defines area taken up by the plot\r\n",
    "        fig = plt.figure(figsize=(12,8),dpi=100)\r\n",
    "        axes = fig.add_axes([0,0,1,1])\r\n",
    "        \r\n",
    "        # Define the plot line color as navy\r\n",
    "        axes.plot(date_arr, np_adj_close, color='navy')\r\n",
    "        \r\n",
    "        # Set max ticks on the x axis\r\n",
    "        axes.xaxis.set_major_locator(plt.MaxNLocator(8))\r\n",
    "        \r\n",
    "        # Add a grid, color, dashes(5pts 1 pt dashes separated by 2pt space)\r\n",
    "        axes.grid(True, color='0.6', dashes=(5, 2, 1, 2))\r\n",
    "        \r\n",
    "        # Set grid background color\r\n",
    "        axes.set_facecolor('#FAEBD7')"
   ],
   "outputs": [],
   "metadata": {}
  },
  {
   "cell_type": "markdown",
   "source": [
    "## Download Multiple Stocks"
   ],
   "metadata": {}
  },
  {
   "cell_type": "code",
   "execution_count": 20,
   "source": [
    "def download_multiple_stocks(syear, smonth, sday, eyear, emonth, eday, *args):\r\n",
    "    for x in args:\r\n",
    "        save_to_csv_from_yahoo(x, syear, smonth, sday, eyear, emonth, eday)"
   ],
   "outputs": [],
   "metadata": {}
  },
  {
   "cell_type": "markdown",
   "source": [
    "## Merge Multiple Stocks in One Dataframe by Column Name"
   ],
   "metadata": {}
  },
  {
   "cell_type": "code",
   "execution_count": 21,
   "source": [
    "def merge_df_by_column_name(col_name, syear, smonth, sday, eyear, emonth, eday, *tickers):\r\n",
    "    # Will hold data for all dataframes with the same column name\r\n",
    "    mult_df = pd.DataFrame()\r\n",
    "    \r\n",
    "    start = f\"{syear}-{smonth}-{sday}\"\r\n",
    "    end = f\"{eyear}-{emonth}-{eday}\"\r\n",
    "    \r\n",
    "    for x in tickers:\r\n",
    "        mult_df[x] = web.DataReader(x, 'yahoo', start, end)[col_name]\r\n",
    "        \r\n",
    "    return mult_df"
   ],
   "outputs": [],
   "metadata": {}
  },
  {
   "cell_type": "markdown",
   "source": [
    "## Get Changing Value of Investment using Multiple Stocks"
   ],
   "metadata": {}
  },
  {
   "cell_type": "code",
   "execution_count": 22,
   "source": [
    "def plot_return_mult_stocks(investment, stock_df):\r\n",
    "    (stock_df / stock_df.iloc[0] * investment).plot(figsize = (15,6))"
   ],
   "outputs": [],
   "metadata": {}
  },
  {
   "cell_type": "markdown",
   "source": [
    "## Get Standard Deviation for Multiple Stocks"
   ],
   "metadata": {}
  },
  {
   "cell_type": "markdown",
   "source": [
    "Risk is a measure of the variability of return. Variance and Standard Deviation allow us to quantify risk.\n",
    "\n",
    "\n",
    "Variance is a measure of how spread out a data set is. It is calculated as the average squared deviation of each number from the mean of a data set.n It equals the sum of the squares of the difference between each data point and the mean divided by the number of data points minus 1.\n",
    "\n",
    "$s^2$ = $\\frac{\\sum (x - \\hat{x})^2}{N - 1}$\n",
    "\n",
    "Example : If we have 3 annual returns of 23%, -8% and 15%. The mean return is 10%.\n",
    "\n",
    "* $(23 - 10)^2$ = 169\n",
    "* $(-8 - 10)^2$ = 324\n",
    "* $(15 - 10)^2$ = 25\n",
    "* = 169 + 324 + 25 = 518 / (3-1) = 259 = 2.59\n",
    "\n",
    "---\n",
    "\n",
    "Standard deviation is a measure of the amount of variation within a set of values. A low standard deviation indicates that the values tend to be close to the mean. A high standard deviation means values are more spread out. To get the Standard Deviation find the square root of the variance.\n",
    "\n",
    "$\\sqrt{s^2}$ = $\\sqrt{2.59}$ = 1.609"
   ],
   "metadata": {}
  },
  {
   "cell_type": "code",
   "execution_count": 23,
   "source": [
    "# Receives the dataframe with the Adj Close data along with the stock ticker\r\n",
    "# Returns the mean and standard deviation associated with the ticker\r\n",
    "def get_stock_mean_sd(stock_df, ticker):\r\n",
    "    return stock_df[ticker].mean(), stock_df[ticker].std()"
   ],
   "outputs": [],
   "metadata": {}
  },
  {
   "cell_type": "code",
   "execution_count": 24,
   "source": [
    "# Receives the dataframe with the stock ticker as the column name and\r\n",
    "# the Adj Close values as the column data and returns the mean and \r\n",
    "# standard deviation\r\n",
    "def get_mult_stock_mean_sd(stock_df):\r\n",
    "    for stock in stock_df:\r\n",
    "        mean, sd = get_stock_mean_sd(stock_df, stock)\r\n",
    "        cov = sd / mean\r\n",
    "        print(\"Stock: {:4} Mean: {:7.2f} Standard deviation: {:2.2f}\".format(stock, mean, sd))\r\n",
    "        print(\"Coefficient of Variation: {}\\n\".format(cov))"
   ],
   "outputs": [],
   "metadata": {}
  },
  {
   "cell_type": "markdown",
   "source": [
    "### Testing"
   ],
   "metadata": {}
  },
  {
   "cell_type": "code",
   "execution_count": 76,
   "source": [
    "\r\n",
    "\r\n",
    "# Call to read the data from Yahoo into a CSV and then retrieve a Dataframe\r\n",
    "BTC = save_to_csv_from_yahoo('BTC-USD', 2020, 1, 1, 2021, 9, 19)\r\n",
    "\r\n",
    "# Retrieve data from the CSV file\r\n",
    "BTC = get_df_from_csv('BTC-USD')\r\n",
    "\r\n",
    "# Add daily return to function\r\n",
    "add_daily_return_to_df(BTC, 'BTC-USD')\r\n",
    "\r\n",
    "# # # Get total return between dates\r\n",
    "tot_ret = get_return_defined_time(BTC, 2020, 1, 1, 2021, 9, 19)\r\n",
    "print(\"Total Return :\", tot_ret)\r\n",
    "\r\n",
    "# # # Use Matplotlib finance to print multiple charts\r\n",
    "# mplfinance_plot('BTC-USD', 'ohlc', 2020, 6, 1, 2021, 9, 19)\r\n",
    "\r\n",
    "# price_plot('BTC-USD', 2020, 6, 1, 2021, 9, 19)\r\n",
    "\r\n",
    "# # # Download multiple stocks\r\n",
    "# tickers = [\"FB\", \"AAPL\", \"NFLX\", \"GOOG\", \"ETH-USD\"]\r\n",
    "# download_multiple_stocks(2020, 1, 1, 2021, 9, 19, *tickers)\r\n",
    "\r\n",
    "# # # Merge dataframes from multiple stocks using the same column name\r\n",
    "tickers = [\"BTC-USD\" , \"ETH-USD\" ]\r\n",
    "mult_df = merge_df_by_column_name('Adj Close',  2020, 1, 1, 2021, 9, 19, *tickers)\r\n",
    "mult_df.tail()\r\n",
    "\r\n",
    "# # # Pass Investment Amount and Plot Returns using Multiple Stocks\r\n",
    "plot_return_mult_stocks(100, mult_df)\r\n",
    "\r\n",
    "# # # Pass multiple stocks with their adjusted close values to receive their\r\n",
    "# # # different means and standard deviations\r\n",
    "get_mult_stock_mean_sd(mult_df)\r\n",
    "mult_df\r\n",
    "\r\n",
    "# # It is hard to compare stocks by standard deviation when their stock prices\r\n",
    "# # are so different. The coefficient of variation is the ratio between the \r\n",
    "# # standard deviation and the mean and it provides a comparable standard deviation\r\n",
    "# # We get it by dividing the standard deviation by the mean cov = std / mean\r\n",
    "# # We see here that GOOG has the least amount of variability\r\n",
    "\r\n",
    "\r\n"
   ],
   "outputs": [
    {
     "output_type": "stream",
     "name": "stdout",
     "text": [
      "Total Return : 2.3349224046952624\n",
      "Stock: BTC-USD Mean: 25236.12 Standard deviation: 17928.05\n",
      "Coefficient of Variation: 0.7104123872352792\n",
      "\n",
      "Stock: ETH-USD Mean: 1150.42 Standard deviation: 1111.35\n",
      "Coefficient of Variation: 0.9660330585852189\n",
      "\n"
     ]
    },
    {
     "output_type": "execute_result",
     "data": {
      "text/html": [
       "<div>\n",
       "<style scoped>\n",
       "    .dataframe tbody tr th:only-of-type {\n",
       "        vertical-align: middle;\n",
       "    }\n",
       "\n",
       "    .dataframe tbody tr th {\n",
       "        vertical-align: top;\n",
       "    }\n",
       "\n",
       "    .dataframe thead th {\n",
       "        text-align: right;\n",
       "    }\n",
       "</style>\n",
       "<table border=\"1\" class=\"dataframe\">\n",
       "  <thead>\n",
       "    <tr style=\"text-align: right;\">\n",
       "      <th></th>\n",
       "      <th>BTC-USD</th>\n",
       "      <th>ETH-USD</th>\n",
       "    </tr>\n",
       "    <tr>\n",
       "      <th>Date</th>\n",
       "      <th></th>\n",
       "      <th></th>\n",
       "    </tr>\n",
       "  </thead>\n",
       "  <tbody>\n",
       "    <tr>\n",
       "      <th>2020-01-01</th>\n",
       "      <td>7200.174316</td>\n",
       "      <td>130.802002</td>\n",
       "    </tr>\n",
       "    <tr>\n",
       "      <th>2020-01-02</th>\n",
       "      <td>6985.470215</td>\n",
       "      <td>127.410179</td>\n",
       "    </tr>\n",
       "    <tr>\n",
       "      <th>2020-01-03</th>\n",
       "      <td>7344.884277</td>\n",
       "      <td>134.171707</td>\n",
       "    </tr>\n",
       "    <tr>\n",
       "      <th>2020-01-04</th>\n",
       "      <td>7410.656738</td>\n",
       "      <td>135.069366</td>\n",
       "    </tr>\n",
       "    <tr>\n",
       "      <th>2020-01-05</th>\n",
       "      <td>7411.317383</td>\n",
       "      <td>136.276779</td>\n",
       "    </tr>\n",
       "    <tr>\n",
       "      <th>...</th>\n",
       "      <td>...</td>\n",
       "      <td>...</td>\n",
       "    </tr>\n",
       "    <tr>\n",
       "      <th>2021-09-15</th>\n",
       "      <td>47783.359375</td>\n",
       "      <td>3571.294922</td>\n",
       "    </tr>\n",
       "    <tr>\n",
       "      <th>2021-09-16</th>\n",
       "      <td>47267.519531</td>\n",
       "      <td>3398.538818</td>\n",
       "    </tr>\n",
       "    <tr>\n",
       "      <th>2021-09-17</th>\n",
       "      <td>48278.363281</td>\n",
       "      <td>3432.018311</td>\n",
       "    </tr>\n",
       "    <tr>\n",
       "      <th>2021-09-18</th>\n",
       "      <td>47260.218750</td>\n",
       "      <td>3329.447998</td>\n",
       "    </tr>\n",
       "    <tr>\n",
       "      <th>2021-09-19</th>\n",
       "      <td>42843.800781</td>\n",
       "      <td>2958.993408</td>\n",
       "    </tr>\n",
       "  </tbody>\n",
       "</table>\n",
       "<p>625 rows × 2 columns</p>\n",
       "</div>"
      ],
      "text/plain": [
       "                 BTC-USD      ETH-USD\n",
       "Date                                 \n",
       "2020-01-01   7200.174316   130.802002\n",
       "2020-01-02   6985.470215   127.410179\n",
       "2020-01-03   7344.884277   134.171707\n",
       "2020-01-04   7410.656738   135.069366\n",
       "2020-01-05   7411.317383   136.276779\n",
       "...                  ...          ...\n",
       "2021-09-15  47783.359375  3571.294922\n",
       "2021-09-16  47267.519531  3398.538818\n",
       "2021-09-17  48278.363281  3432.018311\n",
       "2021-09-18  47260.218750  3329.447998\n",
       "2021-09-19  42843.800781  2958.993408\n",
       "\n",
       "[625 rows x 2 columns]"
      ]
     },
     "metadata": {},
     "execution_count": 76
    },
    {
     "output_type": "display_data",
     "data": {
      "image/png": "[encoded data removed]",
      "text/plain": [
       "<Figure size 1500x600 with 1 Axes>"
      ]
     },
     "metadata": {}
    }
   ],
   "metadata": {}
  }
 ],
 "metadata": {
  "orig_nbformat": 4,
  "language_info": {
   "name": "python",
   "version": "3.8.11",
   "mimetype": "text/x-python",
   "codemirror_mode": {
    "name": "ipython",
    "version": 3
   },
   "pygments_lexer": "ipython3",
   "nbconvert_exporter": "python",
   "file_extension": ".py"
  },
  "kernelspec": {
   "name": "python3",
   "display_name": "Python 3.8.11 64-bit ('NewTry': conda)"
  },
  "interpreter": {
   "hash": "f094a24a4008203dd51fb7d7659f4ccdd83309b3080c43330cabea2cf50dc1f8"
  }
 },
 "nbformat": 4,
 "nbformat_minor": 2
}